{
 "cells": [
  {
   "cell_type": "markdown",
   "id": "91b793f5",
   "metadata": {},
   "source": [
    "## To print Inverted Right Angle Triangle pattern with * symbols"
   ]
  },
  {
   "cell_type": "code",
   "execution_count": 2,
   "id": "feebc6fa",
   "metadata": {},
   "outputs": [
    {
     "name": "stdout",
     "output_type": "stream",
     "text": [
      "Enter the number of rows : 5\n",
      "* * * * * \n",
      "* * * * \n",
      "* * * \n",
      "* * \n",
      "* \n"
     ]
    }
   ],
   "source": [
    "n = int(input(\"Enter the number of rows : \"))\n",
    "\n",
    "for i in range(n):\n",
    "    print(\"* \"*(n-i))"
   ]
  },
  {
   "cell_type": "markdown",
   "id": "c90e8a14",
   "metadata": {},
   "source": [
    "***"
   ]
  },
  {
   "cell_type": "markdown",
   "id": "2764d016",
   "metadata": {},
   "source": [
    "## To print Inverted Right Angle Triangle pattern with fixed digit in every row"
   ]
  },
  {
   "cell_type": "code",
   "execution_count": 3,
   "id": "2caf8b75",
   "metadata": {},
   "outputs": [
    {
     "name": "stdout",
     "output_type": "stream",
     "text": [
      "Enter the number of rows : 5\n",
      "1 1 1 1 1 \n",
      "2 2 2 2 \n",
      "3 3 3 \n",
      "4 4 \n",
      "5 \n"
     ]
    }
   ],
   "source": [
    "n = int(input(\"Enter the number of rows : \"))\n",
    "\n",
    "for i in range(n):\n",
    "    print((str(i+1)+\" \")*(n-i))"
   ]
  },
  {
   "cell_type": "markdown",
   "id": "8cd1079f",
   "metadata": {},
   "source": [
    "***"
   ]
  },
  {
   "cell_type": "markdown",
   "id": "e5c9bbe7",
   "metadata": {},
   "source": [
    "## To print Inverted Right Angle Triangle pattern with fixed alphabet symbol in every "
   ]
  },
  {
   "cell_type": "code",
   "execution_count": 4,
   "id": "4394de70",
   "metadata": {},
   "outputs": [
    {
     "name": "stdout",
     "output_type": "stream",
     "text": [
      "Enter the number of rows : 5\n",
      "A A A A A \n",
      "B B B B \n",
      "C C C \n",
      "D D \n",
      "E \n"
     ]
    }
   ],
   "source": [
    "n = int(input(\"Enter the number of rows : \"))\n",
    "\n",
    "for i in range(n):\n",
    "    print((chr(65+i)+\" \")*(n-i))"
   ]
  },
  {
   "cell_type": "markdown",
   "id": "72c1c969",
   "metadata": {},
   "source": [
    "***"
   ]
  },
  {
   "cell_type": "markdown",
   "id": "e9572257",
   "metadata": {},
   "source": [
    "## To print Inverted Right Angle Triangle pattern with fixed digit in every row## "
   ]
  },
  {
   "cell_type": "code",
   "execution_count": 5,
   "id": "3c90d2e9",
   "metadata": {},
   "outputs": [
    {
     "name": "stdout",
     "output_type": "stream",
     "text": [
      "Enter the number of rows : 5\n",
      "5 5 5 5 5 \n",
      "4 4 4 4 \n",
      "3 3 3 \n",
      "2 2 \n",
      "1 \n"
     ]
    }
   ],
   "source": [
    "n = int(input(\"Enter the number of rows : \"))\n",
    "\n",
    "for i in range(n):\n",
    "    print((str(n-i)+\" \")*(n-i))"
   ]
  },
  {
   "cell_type": "markdown",
   "id": "1c4a240c",
   "metadata": {},
   "source": [
    "***"
   ]
  },
  {
   "cell_type": "markdown",
   "id": "a306e347",
   "metadata": {},
   "source": [
    "## To print Inverted Right Angle Triangle pattern with fixed alphabet symbol in every "
   ]
  },
  {
   "cell_type": "code",
   "execution_count": 6,
   "id": "2b54864d",
   "metadata": {},
   "outputs": [
    {
     "name": "stdout",
     "output_type": "stream",
     "text": [
      "Enter the number of rows : 5\n",
      "E E E E E \n",
      "D D D D \n",
      "C C C \n",
      "B B \n",
      "A \n"
     ]
    }
   ],
   "source": [
    "n = int(input(\"Enter the number of rows : \"))\n",
    "\n",
    "for i in range(n):\n",
    "    print((chr(64+n-i)+\" \")*(n-i))"
   ]
  },
  {
   "cell_type": "markdown",
   "id": "90a68b95",
   "metadata": {},
   "source": [
    "***"
   ]
  },
  {
   "cell_type": "markdown",
   "id": "498a5ee2",
   "metadata": {},
   "source": [
    "## To print Inverted Right Angle Triangle pattern with digits in ascending order in"
   ]
  },
  {
   "cell_type": "code",
   "execution_count": 8,
   "id": "f6ccb494",
   "metadata": {},
   "outputs": [
    {
     "name": "stdout",
     "output_type": "stream",
     "text": [
      "Enter the number of rows : 5\n",
      "1 2 3 4 5 \n",
      "1 2 3 4 \n",
      "1 2 3 \n",
      "1 2 \n",
      "1 \n"
     ]
    }
   ],
   "source": [
    "n = int(input(\"Enter the number of rows : \"))\n",
    "\n",
    "for i in range(n):\n",
    "    for j in range(n-i):\n",
    "        print(j+1,end=' ')\n",
    "    print()"
   ]
  },
  {
   "cell_type": "markdown",
   "id": "9be1a7e6",
   "metadata": {},
   "source": [
    "***"
   ]
  },
  {
   "cell_type": "markdown",
   "id": "1ddd425f",
   "metadata": {},
   "source": [
    "## To print Inverted Right Angle Triangle pattern with digits in descending order in"
   ]
  },
  {
   "cell_type": "code",
   "execution_count": 9,
   "id": "690c04c2",
   "metadata": {},
   "outputs": [
    {
     "name": "stdout",
     "output_type": "stream",
     "text": [
      "Enter the number of rows : 5\n",
      "5 4 3 2 1 \n",
      "5 4 3 2 \n",
      "5 4 3 \n",
      "5 4 \n",
      "5 \n"
     ]
    }
   ],
   "source": [
    "n = int(input(\"Enter the number of rows : \"))\n",
    "\n",
    "for i in range(n):\n",
    "    for j in range(n-i):\n",
    "        print(n-j,end=' ')\n",
    "    print()"
   ]
  },
  {
   "cell_type": "markdown",
   "id": "bceaf73b",
   "metadata": {},
   "source": [
    "***"
   ]
  },
  {
   "cell_type": "markdown",
   "id": "f29050d0",
   "metadata": {},
   "source": [
    "## To print Inverted Right Angle Triangle pattern with alphabet symbols in dictionaryorder in every row\n"
   ]
  },
  {
   "cell_type": "code",
   "execution_count": 10,
   "id": "820c17c3",
   "metadata": {},
   "outputs": [
    {
     "name": "stdout",
     "output_type": "stream",
     "text": [
      "Enter the number of rows : 5\n",
      "A B C D E \n",
      "A B C D \n",
      "A B C \n",
      "A B \n",
      "A \n"
     ]
    }
   ],
   "source": [
    "n = int(input(\"Enter the number of rows : \"))\n",
    "\n",
    "for i in range(n):\n",
    "    for j in range(n-i):\n",
    "        print(chr(65+j),end=' ')\n",
    "    print()"
   ]
  },
  {
   "cell_type": "markdown",
   "id": "eef62af5",
   "metadata": {},
   "source": [
    "***"
   ]
  },
  {
   "cell_type": "markdown",
   "id": "c86a175f",
   "metadata": {},
   "source": [
    "## To print Inverted Right Angle Triangle pattern with alphabet symbols in reverse of dictionary order in every row"
   ]
  },
  {
   "cell_type": "code",
   "execution_count": 12,
   "id": "3c14bb71",
   "metadata": {},
   "outputs": [
    {
     "name": "stdout",
     "output_type": "stream",
     "text": [
      "Enter the number of rows : 5\n",
      "E D C B A \n",
      "E D C B \n",
      "E D C \n",
      "E D \n",
      "E \n"
     ]
    }
   ],
   "source": [
    "n = int(input(\"Enter the number of rows : \"))\n",
    "\n",
    "for i in range(n):\n",
    "    for j in range(n-i):\n",
    "        print(chr(64+n-j),end=' ')\n",
    "    print()"
   ]
  },
  {
   "cell_type": "markdown",
   "id": "cf049bf7",
   "metadata": {},
   "source": [
    "***"
   ]
  },
  {
   "cell_type": "code",
   "execution_count": null,
   "id": "be9f5d9b",
   "metadata": {},
   "outputs": [],
   "source": []
  }
 ],
 "metadata": {
  "kernelspec": {
   "display_name": "Python 3 (ipykernel)",
   "language": "python",
   "name": "python3"
  },
  "language_info": {
   "codemirror_mode": {
    "name": "ipython",
    "version": 3
   },
   "file_extension": ".py",
   "mimetype": "text/x-python",
   "name": "python",
   "nbconvert_exporter": "python",
   "pygments_lexer": "ipython3",
   "version": "3.9.12"
  }
 },
 "nbformat": 4,
 "nbformat_minor": 5
}
