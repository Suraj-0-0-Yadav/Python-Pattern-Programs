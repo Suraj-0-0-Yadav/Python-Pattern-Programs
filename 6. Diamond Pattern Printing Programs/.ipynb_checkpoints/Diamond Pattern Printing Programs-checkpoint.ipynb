{
 "cells": [
  {
   "cell_type": "markdown",
   "id": "ddd3fed3",
   "metadata": {},
   "source": [
    "## To print Diamond Pattern with * symbols"
   ]
  },
  {
   "cell_type": "code",
   "execution_count": 3,
   "id": "989f4a97",
   "metadata": {},
   "outputs": [
    {
     "name": "stdout",
     "output_type": "stream",
     "text": [
      "Enter the number of rows : 6\n",
      "     * \n",
      "    * * \n",
      "   * * * \n",
      "  * * * * \n",
      " * * * * * \n",
      "* * * * * * \n",
      " * * * * * \n",
      "  * * * * \n",
      "   * * * \n",
      "    * * \n",
      "     * \n"
     ]
    }
   ],
   "source": [
    "n = int(input(\"Enter the number of rows : \"))\n",
    "\n",
    "for i in range(n):\n",
    "    print(' '*(n-1-i) + '* '*(i+1))\n",
    "for j in range(n-1):\n",
    "    print(' '*(j+1) + '* '*(n-1-j))"
   ]
  },
  {
   "cell_type": "markdown",
   "id": "e6c22886",
   "metadata": {},
   "source": [
    "***"
   ]
  },
  {
   "cell_type": "markdown",
   "id": "cd1c9050",
   "metadata": {},
   "source": [
    "## To print Diamond Pattern with fixed digit in every row"
   ]
  },
  {
   "cell_type": "code",
   "execution_count": 7,
   "id": "bab60ce1",
   "metadata": {},
   "outputs": [
    {
     "name": "stdout",
     "output_type": "stream",
     "text": [
      "Enter the number of rows : 5\n",
      "    1 \n",
      "   2 2 \n",
      "  3 3 3 \n",
      " 4 4 4 4 \n",
      "5 5 5 5 5 \n",
      " 4 4 4 4 \n",
      "  3 3 3 \n",
      "   2 2 \n",
      "    1 \n"
     ]
    }
   ],
   "source": [
    "n = int(input('Enter the number of rows : '))\n",
    "\n",
    "for i in range(n):\n",
    "    print(' '*(n-1-i) + (str(i+1)+\" \")*(i+1))\n",
    "for j in range(n-1):\n",
    "    print(' '*(j+1) + (str(n-1-j)+' ')*(n-1-j))"
   ]
  },
  {
   "cell_type": "markdown",
   "id": "9f36a08d",
   "metadata": {},
   "source": [
    "***"
   ]
  },
  {
   "cell_type": "markdown",
   "id": "212b1f49",
   "metadata": {},
   "source": [
    "## To print Diamond Pattern with fixed alphabet symbol in every row"
   ]
  },
  {
   "cell_type": "code",
   "execution_count": 11,
   "id": "60698be2",
   "metadata": {},
   "outputs": [
    {
     "name": "stdout",
     "output_type": "stream",
     "text": [
      "Enter the number of rows : 5\n",
      "    A \n",
      "   B B \n",
      "  C C C \n",
      " D D D D \n",
      "E E E E E \n",
      " D D D D \n",
      "  C C C \n",
      "   B B \n",
      "    A \n"
     ]
    }
   ],
   "source": [
    "n = int(input('Enter the number of rows : '))\n",
    "\n",
    "for i in range(n):\n",
    "    print(' '*(n-1-i) + (chr(65+i)+\" \")*(i+1))\n",
    "for j in range(n-1):\n",
    "    print(' '*(j+1) + (chr(64+n-(j+1))+' ')*(n-1-j))"
   ]
  },
  {
   "cell_type": "markdown",
   "id": "0b902592",
   "metadata": {},
   "source": [
    "***"
   ]
  },
  {
   "cell_type": "markdown",
   "id": "d596150d",
   "metadata": {},
   "source": [
    "## To print Diamond Pattern with alphabet symbols in dictionary order in every row"
   ]
  },
  {
   "cell_type": "code",
   "execution_count": 15,
   "id": "95819f8c",
   "metadata": {},
   "outputs": [
    {
     "name": "stdout",
     "output_type": "stream",
     "text": [
      "Enter the number of rows : 5\n",
      "    A \n",
      "   A B \n",
      "  A B C \n",
      " A B C D \n",
      "A B C D E \n",
      " A B C D \n",
      "  A B C \n",
      "   A B \n",
      "    A \n"
     ]
    }
   ],
   "source": [
    "n = int(input(\"Enter the number of rows : \"))\n",
    "\n",
    "for i in range(n):\n",
    "    print(' '*(n-1-i),end=\"\")\n",
    "    for j in range(i+1):\n",
    "        print(chr(65+j),end=\" \")\n",
    "    print()\n",
    "for i in range(n-1):\n",
    "    print(' '*(i+1),end=\"\")\n",
    "    for j in range(n-1-i):\n",
    "        print(chr(65+j),end=' ')\n",
    "    print()"
   ]
  },
  {
   "cell_type": "markdown",
   "id": "8f4b5035",
   "metadata": {},
   "source": [
    "***"
   ]
  },
  {
   "cell_type": "code",
   "execution_count": 26,
   "id": "8abb0bd2",
   "metadata": {},
   "outputs": [
    {
     "name": "stdout",
     "output_type": "stream",
     "text": [
      "Enter the number of rows : 5\n",
      "    E \n",
      "   E D \n",
      "  E D C \n",
      " E D C B \n",
      "E D C B A \n",
      " E D C B \n",
      "  E D C \n",
      "   E D \n",
      "    E \n"
     ]
    }
   ],
   "source": [
    "n = int(input(\"Enter the number of rows : \"))\n",
    "\n",
    "for i in range(n):\n",
    "    print(' '*(n-1-i),end=\"\")\n",
    "    for j in range(i+1):\n",
    "        print(chr(64+n-j),end=\" \")\n",
    "    print()\n",
    "for i in range(n-1):\n",
    "    print(' '*(i+1),end=\"\")\n",
    "    for j in range(n-1-i):\n",
    "        print(chr(64+n-j),end=' ')\n",
    "    print()"
   ]
  },
  {
   "cell_type": "markdown",
   "id": "fe60127d",
   "metadata": {},
   "source": [
    "***"
   ]
  },
  {
   "cell_type": "markdown",
   "id": "b3c50e52",
   "metadata": {},
   "source": [
    "## To print Diamond Pattern with digits in descending order in every row"
   ]
  },
  {
   "cell_type": "code",
   "execution_count": 21,
   "id": "7fb5524c",
   "metadata": {},
   "outputs": [
    {
     "name": "stdout",
     "output_type": "stream",
     "text": [
      "Enter the number of rows : 5\n",
      "    5 \n",
      "   5 4 \n",
      "  5 4 3 \n",
      " 5 4 3 2 \n",
      "5 4 3 2 1 \n",
      " 5 4 3 2 \n",
      "  5 4 3 \n",
      "   5 4 \n",
      "    5 \n"
     ]
    }
   ],
   "source": [
    "n = int(input(\"Enter the number of rows : \"))\n",
    "\n",
    "for i in range(n):\n",
    "    print(' '*(n-1-i),end=\"\")\n",
    "    for j in range(i+1):\n",
    "        print(n-j,end=\" \")\n",
    "    print()\n",
    "for i in range(n-1):\n",
    "    print(' '*(i+1),end=\"\")\n",
    "    for j in range(n-1-i):\n",
    "        print(n-j,end=' ')\n",
    "    print()"
   ]
  },
  {
   "cell_type": "markdown",
   "id": "c4b13b55",
   "metadata": {},
   "source": [
    "***"
   ]
  },
  {
   "cell_type": "code",
   "execution_count": 23,
   "id": "383687d9",
   "metadata": {},
   "outputs": [
    {
     "name": "stdout",
     "output_type": "stream",
     "text": [
      "Enter the number of rows : 5\n",
      "    1 \n",
      "   1 2 \n",
      "  1 2 3 \n",
      " 1 2 3 4 \n",
      "1 2 3 4 5 \n",
      " 1 2 3 4 \n",
      "  1 2 3 \n",
      "   1 2 \n",
      "    1 \n"
     ]
    }
   ],
   "source": [
    "n = int(input(\"Enter the number of rows : \"))\n",
    "\n",
    "for i in range(n):\n",
    "    print(' '*(n-1-i),end=\"\")\n",
    "    for j in range(i+1):\n",
    "        print(j+1,end=\" \")\n",
    "    print()\n",
    "for i in range(n-1):\n",
    "    print(' '*(i+1),end=\"\")\n",
    "    for j in range(n-1-i):\n",
    "        print(j+1,end=' ')\n",
    "    print()"
   ]
  },
  {
   "cell_type": "markdown",
   "id": "64f6f68b",
   "metadata": {},
   "source": [
    "***"
   ]
  }
 ],
 "metadata": {
  "kernelspec": {
   "display_name": "Python 3 (ipykernel)",
   "language": "python",
   "name": "python3"
  },
  "language_info": {
   "codemirror_mode": {
    "name": "ipython",
    "version": 3
   },
   "file_extension": ".py",
   "mimetype": "text/x-python",
   "name": "python",
   "nbconvert_exporter": "python",
   "pygments_lexer": "ipython3",
   "version": "3.9.12"
  }
 },
 "nbformat": 4,
 "nbformat_minor": 5
}
