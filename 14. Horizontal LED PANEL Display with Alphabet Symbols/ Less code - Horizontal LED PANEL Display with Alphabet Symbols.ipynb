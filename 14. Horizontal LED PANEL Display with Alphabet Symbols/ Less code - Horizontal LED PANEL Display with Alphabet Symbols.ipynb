{
 "cells": [
  {
   "cell_type": "code",
   "execution_count": 1,
   "id": "441fcb52",
   "metadata": {},
   "outputs": [],
   "source": [
    "def print_row(*col):\n",
    "    for i in range(5):\n",
    "        if i in col:\n",
    "            print('*',end=' ')\n",
    "        else:\n",
    "            print(' ',end=' ')"
   ]
  },
  {
   "cell_type": "code",
   "execution_count": 2,
   "id": "bc227bad",
   "metadata": {},
   "outputs": [],
   "source": [
    "def row_0():\n",
    "    print_row(0)\n",
    "\n",
    "def row_2():\n",
    "    print_row(2)\n",
    "\n",
    "def row_0_4():\n",
    "    print_row(0,4)\n",
    "\n",
    "def row_1_2_3():\n",
    "    print_row(1,2,3)\n",
    "\n",
    "def row_0_1_2_3():\n",
    "    print_row(0,1,2,3)\n",
    "\n",
    "def row_0_1_2_3_4():\n",
    "    print_row(0,1,2,3,4)\n",
    "\n",
    "def row_0_2_4():\n",
    "    print_row(0,2,4)\n",
    "\n",
    "def row_0_2():\n",
    "    print_row(0,2)\n",
    "def row_1_3():\n",
    "    print_row(1,3)\n",
    "def row_0_3():\n",
    "    print_row(0,3)\n",
    "def row_0_3_4():\n",
    "    print_row(0,3,4)\n",
    "def row_1():\n",
    "    print_row(1)\n",
    "def row_4():\n",
    "    print_row(4)\n",
    "def row_0_1_3_4():\n",
    "    print_row(0,1,3,4)"
   ]
  },
  {
   "cell_type": "code",
   "execution_count": 3,
   "id": "609e1c70",
   "metadata": {},
   "outputs": [],
   "source": [
    "C2=C3=C4=E1=E2=E4=E5=F1=F2=F4=F5=F6=G2=L0=L1=L2=L3=L4=L5=P4=P5=P6=S2=Z5=row_0\n",
    "\n",
    "A1=A2=A4=A5=A6=B1=B2=B4=B5=C1=C5=D1=D2=D3=D4=D5=G1=G4=G5=H0=H1=H2=H4=H5=H6=K0=K6=M0=M3=M4=M5=M6=N0=N1=N5=N6=O1=O2=O3=O4=O5=P1=P2=Q1=Q2=Q3=R1=R2=R6=S1=S5=U0=U1=U2=U3=U4=U5=V0=V1=V2=V3=V4=W0=W1=W2=W3=W6=X0=X1=X5=X6=Y0=Y1=row_0_4\n",
    "\n",
    "I1=I2=I3=I4=I5=J1=J2=J3=J4=T1=T2=T3=T4=T5=T6=V6=X3=Y3=Y4=Y5=Y6=Z3=row_2\n",
    "\n",
    "A0=C0=C6=G0=G6=O0=O6=Q0=S0=S3=S6=U6=Y2=row_1_2_3\n",
    "B0=B3=B6=D0=D6=P0=P3=R0=R3=row_0_1_2_3\n",
    "A3=E0=E3=E6=F0=F3=H3=I0=I6=J0=L6=T0=Z0=Z6=row_0_1_2_3_4\n",
    "M2=N3=Q4=W4=row_0_2_4\n",
    "J5=K2=K4=R4=row_0_2\n",
    "V5=X2=X4=row_1_3\n",
    "K1=K5=R5=row_0_3\n",
    "N4=Q5=row_0_3_4\n",
    "J6=Z4=row_1\n",
    "S4=Z1=row_4\n",
    "M1=W5=row_0_1_3_4"
   ]
  },
  {
   "cell_type": "code",
   "execution_count": 4,
   "id": "a1f43edc",
   "metadata": {},
   "outputs": [],
   "source": [
    "def G3():\n",
    "    print_row(0,2,3,4)\n",
    "def K3():\n",
    "    print_row(0,1)\n",
    "def N2():\n",
    "    print_row(0,1,4)\n",
    "def Q6():\n",
    "    print_row(1,2,3,4)\n",
    "def Z2():\n",
    "    print_row(3)"
   ]
  },
  {
   "cell_type": "code",
   "execution_count": 5,
   "id": "f134f0ce",
   "metadata": {},
   "outputs": [
    {
     "name": "stdout",
     "output_type": "stream",
     "text": [
      "Enter Any Word To print Horizontally:SURAJ\n",
      "  * * *    *       *  * * * *      * * *    * * * * *  \n",
      "*       *  *       *  *       *  *       *      *      \n",
      "*          *       *  *       *  *       *      *      \n",
      "  * * *    *       *  * * * *    * * * * *      *      \n",
      "        *  *       *  *   *      *       *      *      \n",
      "*       *  *       *  *     *    *       *  *   *      \n",
      "  * * *      * * *    *       *  *       *    *        \n"
     ]
    }
   ],
   "source": [
    "    \n",
    "word=input('Enter Any Word To print Horizontally:')\n",
    "for i in range(7):\n",
    "    for ch in word:\n",
    "        exec(ch+str(i)+'()')\n",
    "        print(end=' ')\n",
    "    print()"
   ]
  },
  {
   "cell_type": "code",
   "execution_count": null,
   "id": "5ce54a8b",
   "metadata": {},
   "outputs": [],
   "source": []
  }
 ],
 "metadata": {
  "kernelspec": {
   "display_name": "Python 3 (ipykernel)",
   "language": "python",
   "name": "python3"
  },
  "language_info": {
   "codemirror_mode": {
    "name": "ipython",
    "version": 3
   },
   "file_extension": ".py",
   "mimetype": "text/x-python",
   "name": "python",
   "nbconvert_exporter": "python",
   "pygments_lexer": "ipython3",
   "version": "3.10.8"
  }
 },
 "nbformat": 4,
 "nbformat_minor": 5
}
