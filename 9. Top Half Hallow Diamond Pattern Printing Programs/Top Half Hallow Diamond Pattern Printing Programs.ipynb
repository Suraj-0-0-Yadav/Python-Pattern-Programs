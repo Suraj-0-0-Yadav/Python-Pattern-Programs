{
 "cells": [
  {
   "cell_type": "markdown",
   "id": "4da0a068",
   "metadata": {},
   "source": [
    "## To print Top Half Hallow Diamond Pattern with * symbols"
   ]
  },
  {
   "cell_type": "code",
   "execution_count": 16,
   "id": "bc355bb0",
   "metadata": {},
   "outputs": [
    {
     "name": "stdout",
     "output_type": "stream",
     "text": [
      "Enter the number of rows7\n",
      "            * \n",
      "          *   *\n",
      "        *       *\n",
      "      *           *\n",
      "    *               *\n",
      "  *                   *\n",
      "*                       *\n"
     ]
    }
   ],
   "source": [
    "n = int(input(\"Enter the number of rows\"))\n",
    "\n",
    "for i in range(n):\n",
    "    print('  '*(n-1-i) + '* '  , end=\"\")\n",
    "    \n",
    "    if i>=1:\n",
    "        print('  '*(2*i-1) + '*',end=\"\")\n",
    "    print()"
   ]
  },
  {
   "cell_type": "markdown",
   "id": "7dfa2879",
   "metadata": {},
   "source": [
    "***"
   ]
  },
  {
   "cell_type": "markdown",
   "id": "501337cf",
   "metadata": {},
   "source": [
    "## To print Top Half Hallow Diamond Pattern with fixed digit in every row"
   ]
  },
  {
   "cell_type": "code",
   "execution_count": 20,
   "id": "a65438c9",
   "metadata": {},
   "outputs": [
    {
     "name": "stdout",
     "output_type": "stream",
     "text": [
      "Enter the number of rows :5\n",
      "        1 \n",
      "      2   2 \n",
      "    3       3 \n",
      "  4           4 \n",
      "5               5 \n"
     ]
    }
   ],
   "source": [
    "n = int(input(\"Enter the number of rows :\"))\n",
    "\n",
    "for i in range(n):\n",
    "    print('  '*(n-1-i) + str(i+1)+\" \" , end=\"\")\n",
    "    if i>=1:\n",
    "        print('  '*(2*i-1) + str(i+1)+\" \",end=\"\")\n",
    "    print()"
   ]
  },
  {
   "cell_type": "markdown",
   "id": "242903f1",
   "metadata": {},
   "source": [
    "***"
   ]
  },
  {
   "cell_type": "markdown",
   "id": "5291c3b3",
   "metadata": {},
   "source": [
    "## To print Top Half Hollow Diamond Pattern with numbers in descending order"
   ]
  },
  {
   "cell_type": "code",
   "execution_count": 21,
   "id": "edb82f33",
   "metadata": {},
   "outputs": [
    {
     "name": "stdout",
     "output_type": "stream",
     "text": [
      "Enter the number of rows :5\n",
      "        5 \n",
      "      4   4 \n",
      "    3       3 \n",
      "  2           2 \n",
      "1               1 \n"
     ]
    }
   ],
   "source": [
    "n = int(input(\"Enter the number of rows :\"))\n",
    "\n",
    "for i in range(n):\n",
    "    print('  '*(n-1-i) + str(n-i)+\" \" , end=\"\")\n",
    "    if i>=1:\n",
    "        print('  '*(2*i-1) + str(n-i)+\" \",end=\"\")\n",
    "    print()"
   ]
  },
  {
   "cell_type": "markdown",
   "id": "1c6e67d9",
   "metadata": {},
   "source": [
    "***"
   ]
  },
  {
   "cell_type": "markdown",
   "id": "f979401b",
   "metadata": {},
   "source": [
    "## To print Top Half Hallow Diamond Pattern with fixed alphabet symbol in every row\n"
   ]
  },
  {
   "cell_type": "code",
   "execution_count": 22,
   "id": "f43a2661",
   "metadata": {},
   "outputs": [
    {
     "name": "stdout",
     "output_type": "stream",
     "text": [
      "Enter the number of rows :5\n",
      "        A \n",
      "      B   B \n",
      "    C       C \n",
      "  D           D \n",
      "E               E \n"
     ]
    }
   ],
   "source": [
    "n = int(input(\"Enter the number of rows :\"))\n",
    "\n",
    "for i in range(n):\n",
    "    print('  '*(n-1-i) + chr(65+i)+\" \" , end=\"\")\n",
    "    if i>=1:\n",
    "        print('  '*(2*i-1) + chr(65+i)+\" \",end=\"\")\n",
    "    print()"
   ]
  },
  {
   "cell_type": "markdown",
   "id": "6d96b976",
   "metadata": {},
   "source": [
    "## To print Top Half Hollw Diamond Pattern with aplhabet symbols in reverse of dictionary order"
   ]
  },
  {
   "cell_type": "code",
   "execution_count": 23,
   "id": "41895faf",
   "metadata": {},
   "outputs": [
    {
     "name": "stdout",
     "output_type": "stream",
     "text": [
      "Enter the number of rows :5\n",
      "        E \n",
      "      D   D \n",
      "    C       C \n",
      "  B           B \n",
      "A               A \n"
     ]
    }
   ],
   "source": [
    "n = int(input(\"Enter the number of rows :\"))\n",
    "\n",
    "for i in range(n):\n",
    "    print('  '*(n-1-i) + chr(64+n-i)+\" \" , end=\"\")\n",
    "    if i>=1:\n",
    "        print('  '*(2*i-1) + chr(64+n-i)+\" \",end=\"\")\n",
    "    print()"
   ]
  },
  {
   "cell_type": "markdown",
   "id": "f794af69",
   "metadata": {},
   "source": [
    "***"
   ]
  },
  {
   "cell_type": "code",
   "execution_count": null,
   "id": "6107ba1d",
   "metadata": {},
   "outputs": [],
   "source": []
  }
 ],
 "metadata": {
  "kernelspec": {
   "display_name": "Python 3 (ipykernel)",
   "language": "python",
   "name": "python3"
  },
  "language_info": {
   "codemirror_mode": {
    "name": "ipython",
    "version": 3
   },
   "file_extension": ".py",
   "mimetype": "text/x-python",
   "name": "python",
   "nbconvert_exporter": "python",
   "pygments_lexer": "ipython3",
   "version": "3.9.12"
  }
 },
 "nbformat": 4,
 "nbformat_minor": 5
}
