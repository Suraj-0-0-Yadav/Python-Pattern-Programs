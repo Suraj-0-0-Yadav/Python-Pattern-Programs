{
 "cells": [
  {
   "cell_type": "markdown",
   "id": "d376a1cc",
   "metadata": {},
   "source": [
    "# Square Patters"
   ]
  },
  {
   "cell_type": "markdown",
   "id": "65c6f256",
   "metadata": {},
   "source": [
    "***"
   ]
  },
  {
   "cell_type": "markdown",
   "id": "3054b6a8",
   "metadata": {},
   "source": [
    "## To print given number of * in a row"
   ]
  },
  {
   "cell_type": "code",
   "execution_count": 5,
   "id": "81593342",
   "metadata": {},
   "outputs": [
    {
     "name": "stdout",
     "output_type": "stream",
     "text": [
      "Enter a number : 6\n",
      "* * * * * * "
     ]
    }
   ],
   "source": [
    "n = int(input(\"Enter a number : \"))\n",
    "\n",
    "for i in range(n):\n",
    "    print(\"*\" , end=\" \")"
   ]
  },
  {
   "cell_type": "markdown",
   "id": "6de937bd",
   "metadata": {},
   "source": [
    "***"
   ]
  },
  {
   "cell_type": "markdown",
   "id": "b6789b8a",
   "metadata": {},
   "source": [
    "## To print square pattern with * symbols"
   ]
  },
  {
   "cell_type": "code",
   "execution_count": 8,
   "id": "50a3d6b9",
   "metadata": {},
   "outputs": [
    {
     "name": "stdout",
     "output_type": "stream",
     "text": [
      "* * * \n"
     ]
    }
   ],
   "source": [
    "print(\"* \"*3)"
   ]
  },
  {
   "cell_type": "code",
   "execution_count": 9,
   "id": "a2537038",
   "metadata": {},
   "outputs": [
    {
     "name": "stdout",
     "output_type": "stream",
     "text": [
      "* * * * * * * \n"
     ]
    }
   ],
   "source": [
    "print(\"* \"*7)"
   ]
  },
  {
   "cell_type": "code",
   "execution_count": 10,
   "id": "c66bec8c",
   "metadata": {},
   "outputs": [
    {
     "name": "stdout",
     "output_type": "stream",
     "text": [
      "Enter a number of rows : 5\n",
      "* * * * * \n",
      "* * * * * \n",
      "* * * * * \n",
      "* * * * * \n",
      "* * * * * \n"
     ]
    }
   ],
   "source": [
    "n = int(input(\"Enter a number of rows : \"))\n",
    "\n",
    "for i in range(n):\n",
    "    print(\"* \"*n)"
   ]
  },
  {
   "cell_type": "markdown",
   "id": "9b039ead",
   "metadata": {},
   "source": [
    "***"
   ]
  },
  {
   "cell_type": "markdown",
   "id": "bee2c1ba",
   "metadata": {},
   "source": [
    "## To print square pattern with provided fixed digit "
   ]
  },
  {
   "cell_type": "code",
   "execution_count": 14,
   "id": "83528a98",
   "metadata": {},
   "outputs": [
    {
     "name": "stdout",
     "output_type": "stream",
     "text": [
      "Enter a number of rows : 5\n",
      "5     \n",
      "5     \n",
      "5     \n",
      "5     \n",
      "5     \n"
     ]
    }
   ],
   "source": [
    "n = int(input(\"Enter a number of rows : \"))\n",
    "\n",
    "for i in range(n):\n",
    "    print(str(n)+' '*n)   "
   ]
  },
  {
   "cell_type": "code",
   "execution_count": 13,
   "id": "ae9cd6a0",
   "metadata": {},
   "outputs": [
    {
     "name": "stdout",
     "output_type": "stream",
     "text": [
      "Enter a number of rows : 5\n",
      "5 5 5 5 5 \n",
      "5 5 5 5 5 \n",
      "5 5 5 5 5 \n",
      "5 5 5 5 5 \n",
      "5 5 5 5 5 \n"
     ]
    }
   ],
   "source": [
    "n = int(input(\"Enter a number of rows : \"))\n",
    "\n",
    "for i in range(n):\n",
    "    print((str(n)+' ')*n)    # print(str(n)+' '*n) --> print((str(n)+' ')*n)"
   ]
  },
  {
   "cell_type": "markdown",
   "id": "18febefc",
   "metadata": {},
   "source": [
    "***"
   ]
  },
  {
   "cell_type": "markdown",
   "id": "3993d858",
   "metadata": {},
   "source": [
    "## Square pattern with provided fixed digit in every row"
   ]
  },
  {
   "cell_type": "code",
   "execution_count": 16,
   "id": "3a8be69a",
   "metadata": {},
   "outputs": [
    {
     "name": "stdout",
     "output_type": "stream",
     "text": [
      "Enter a number of rows : 7\n",
      "1 1 1 1 1 1 1 \n",
      "2 2 2 2 2 2 2 \n",
      "3 3 3 3 3 3 3 \n",
      "4 4 4 4 4 4 4 \n",
      "5 5 5 5 5 5 5 \n",
      "6 6 6 6 6 6 6 \n",
      "7 7 7 7 7 7 7 \n"
     ]
    }
   ],
   "source": [
    "n = int(input(\"Enter a number of rows : \"))\n",
    "\n",
    "for i in range(n):\n",
    "    print((str(i+1)+' ')*n)    "
   ]
  },
  {
   "cell_type": "markdown",
   "id": "8861fbb6",
   "metadata": {},
   "source": [
    "***"
   ]
  },
  {
   "cell_type": "markdown",
   "id": "81d96bcf",
   "metadata": {},
   "source": [
    "##  To print square pattern with fixed alphabet symbol"
   ]
  },
  {
   "cell_type": "code",
   "execution_count": 17,
   "id": "20a8e960",
   "metadata": {},
   "outputs": [
    {
     "name": "stdout",
     "output_type": "stream",
     "text": [
      "Enter a number of rows : 6\n",
      "A A A A A A \n",
      "A A A A A A \n",
      "A A A A A A \n",
      "A A A A A A \n",
      "A A A A A A \n",
      "A A A A A A \n"
     ]
    }
   ],
   "source": [
    "n = int(input(\"Enter a number of rows : \"))\n",
    "\n",
    "for i in range(n):\n",
    "    print('A '*n)    "
   ]
  },
  {
   "cell_type": "markdown",
   "id": "c0db341c",
   "metadata": {},
   "source": [
    "***"
   ]
  },
  {
   "cell_type": "markdown",
   "id": "0a1c34b0",
   "metadata": {},
   "source": [
    "## To print square pattern with digits"
   ]
  },
  {
   "cell_type": "code",
   "execution_count": 24,
   "id": "94869591",
   "metadata": {},
   "outputs": [
    {
     "name": "stdout",
     "output_type": "stream",
     "text": [
      "Enter a number of rows : 5\n",
      "1 2 3 4 5 \n",
      "1 2 3 4 5 \n",
      "1 2 3 4 5 \n",
      "1 2 3 4 5 \n",
      "1 2 3 4 5 \n"
     ]
    }
   ],
   "source": [
    "n = int(input(\"Enter a number of rows : \"))\n",
    "\n",
    "for i in range(n):\n",
    "    for j in range(n):\n",
    "        print((j+1) , end=\" \")\n",
    "    print()"
   ]
  },
  {
   "cell_type": "markdown",
   "id": "c0f8f44b",
   "metadata": {},
   "source": [
    "***"
   ]
  },
  {
   "cell_type": "code",
   "execution_count": null,
   "id": "290ae699",
   "metadata": {},
   "outputs": [],
   "source": []
  }
 ],
 "metadata": {
  "kernelspec": {
   "display_name": "Python 3 (ipykernel)",
   "language": "python",
   "name": "python3"
  },
  "language_info": {
   "codemirror_mode": {
    "name": "ipython",
    "version": 3
   },
   "file_extension": ".py",
   "mimetype": "text/x-python",
   "name": "python",
   "nbconvert_exporter": "python",
   "pygments_lexer": "ipython3",
   "version": "3.10.8"
  }
 },
 "nbformat": 4,
 "nbformat_minor": 5
}
