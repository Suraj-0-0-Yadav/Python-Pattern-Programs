{
 "cells": [
  {
   "cell_type": "markdown",
   "id": "be76dfc1",
   "metadata": {},
   "source": [
    "# Square Patters"
   ]
  },
  {
   "cell_type": "markdown",
   "id": "d19ae045",
   "metadata": {},
   "source": [
    "***"
   ]
  },
  {
   "cell_type": "markdown",
   "id": "1815d50e",
   "metadata": {},
   "source": [
    "## To print given number of * in a row"
   ]
  },
  {
   "cell_type": "code",
   "execution_count": 5,
   "id": "e0662f82",
   "metadata": {},
   "outputs": [
    {
     "name": "stdout",
     "output_type": "stream",
     "text": [
      "Enter a number : 6\n",
      "* * * * * * "
     ]
    }
   ],
   "source": [
    "n = int(input(\"Enter a number : \"))\n",
    "\n",
    "for i in range(n):\n",
    "    print(\"*\" , end=\" \")"
   ]
  },
  {
   "cell_type": "markdown",
   "id": "5b03cf4f",
   "metadata": {},
   "source": [
    "***"
   ]
  },
  {
   "cell_type": "markdown",
   "id": "d3b5b08f",
   "metadata": {},
   "source": [
    "## To print square pattern with * symbols"
   ]
  },
  {
   "cell_type": "code",
   "execution_count": 8,
   "id": "c9fcb3dc",
   "metadata": {},
   "outputs": [
    {
     "name": "stdout",
     "output_type": "stream",
     "text": [
      "* * * \n"
     ]
    }
   ],
   "source": [
    "print(\"* \"*3)"
   ]
  },
  {
   "cell_type": "code",
   "execution_count": 9,
   "id": "5d0f6dae",
   "metadata": {},
   "outputs": [
    {
     "name": "stdout",
     "output_type": "stream",
     "text": [
      "* * * * * * * \n"
     ]
    }
   ],
   "source": [
    "print(\"* \"*7)"
   ]
  },
  {
   "cell_type": "code",
   "execution_count": 10,
   "id": "7c7562e4",
   "metadata": {},
   "outputs": [
    {
     "name": "stdout",
     "output_type": "stream",
     "text": [
      "Enter a number of rows : 5\n",
      "* * * * * \n",
      "* * * * * \n",
      "* * * * * \n",
      "* * * * * \n",
      "* * * * * \n"
     ]
    }
   ],
   "source": [
    "n = int(input(\"Enter a number of rows : \"))\n",
    "\n",
    "for i in range(n):\n",
    "    print(\"* \"*n)"
   ]
  },
  {
   "cell_type": "markdown",
   "id": "21f7cb09",
   "metadata": {},
   "source": [
    "***"
   ]
  },
  {
   "cell_type": "markdown",
   "id": "eccd4266",
   "metadata": {},
   "source": [
    "## To print square pattern with provided fixed digit "
   ]
  },
  {
   "cell_type": "code",
   "execution_count": 14,
   "id": "1c938422",
   "metadata": {},
   "outputs": [
    {
     "name": "stdout",
     "output_type": "stream",
     "text": [
      "Enter a number of rows : 5\n",
      "5     \n",
      "5     \n",
      "5     \n",
      "5     \n",
      "5     \n"
     ]
    }
   ],
   "source": [
    "n = int(input(\"Enter a number of rows : \"))\n",
    "\n",
    "for i in range(n):\n",
    "    print(str(n)+' '*n)   "
   ]
  },
  {
   "cell_type": "code",
   "execution_count": 13,
   "id": "a633807f",
   "metadata": {},
   "outputs": [
    {
     "name": "stdout",
     "output_type": "stream",
     "text": [
      "Enter a number of rows : 5\n",
      "5 5 5 5 5 \n",
      "5 5 5 5 5 \n",
      "5 5 5 5 5 \n",
      "5 5 5 5 5 \n",
      "5 5 5 5 5 \n"
     ]
    }
   ],
   "source": [
    "n = int(input(\"Enter a number of rows : \"))\n",
    "\n",
    "for i in range(n):\n",
    "    print((str(n)+' ')*n)    # print(str(n)+' '*n) --> print((str(n)+' ')*n)"
   ]
  },
  {
   "cell_type": "markdown",
   "id": "7fcb5e4e",
   "metadata": {},
   "source": [
    "***"
   ]
  },
  {
   "cell_type": "markdown",
   "id": "0cf9e835",
   "metadata": {},
   "source": [
    "## Square pattern with provided fixed digit in every row"
   ]
  },
  {
   "cell_type": "code",
   "execution_count": 16,
   "id": "5e324b66",
   "metadata": {},
   "outputs": [
    {
     "name": "stdout",
     "output_type": "stream",
     "text": [
      "Enter a number of rows : 7\n",
      "1 1 1 1 1 1 1 \n",
      "2 2 2 2 2 2 2 \n",
      "3 3 3 3 3 3 3 \n",
      "4 4 4 4 4 4 4 \n",
      "5 5 5 5 5 5 5 \n",
      "6 6 6 6 6 6 6 \n",
      "7 7 7 7 7 7 7 \n"
     ]
    }
   ],
   "source": [
    "n = int(input(\"Enter a number of rows : \"))\n",
    "\n",
    "for i in range(n):\n",
    "    print((str(i+1)+' ')*n)    "
   ]
  },
  {
   "cell_type": "markdown",
   "id": "fe883d2e",
   "metadata": {},
   "source": [
    "***"
   ]
  },
  {
   "cell_type": "markdown",
   "id": "6d8e040b",
   "metadata": {},
   "source": [
    "##  To print square pattern with fixed alphabet symbol"
   ]
  },
  {
   "cell_type": "code",
   "execution_count": 17,
   "id": "e7be3302",
   "metadata": {},
   "outputs": [
    {
     "name": "stdout",
     "output_type": "stream",
     "text": [
      "Enter a number of rows : 6\n",
      "A A A A A A \n",
      "A A A A A A \n",
      "A A A A A A \n",
      "A A A A A A \n",
      "A A A A A A \n",
      "A A A A A A \n"
     ]
    }
   ],
   "source": [
    "n = int(input(\"Enter a number of rows : \"))\n",
    "\n",
    "for i in range(n):\n",
    "    print('A '*n)    "
   ]
  },
  {
   "cell_type": "markdown",
   "id": "de524d99",
   "metadata": {},
   "source": [
    "***"
   ]
  },
  {
   "cell_type": "markdown",
   "id": "a9d87195",
   "metadata": {},
   "source": [
    "## To print square pattern with digits"
   ]
  },
  {
   "cell_type": "code",
   "execution_count": 24,
   "id": "0772407f",
   "metadata": {},
   "outputs": [
    {
     "name": "stdout",
     "output_type": "stream",
     "text": [
      "Enter a number of rows : 5\n",
      "1 2 3 4 5 \n",
      "1 2 3 4 5 \n",
      "1 2 3 4 5 \n",
      "1 2 3 4 5 \n",
      "1 2 3 4 5 \n"
     ]
    }
   ],
   "source": [
    "n = int(input(\"Enter a number of rows : \"))\n",
    "\n",
    "for i in range(n):\n",
    "    for j in range(n):\n",
    "        print((j+1) , end=\" \")\n",
    "    print()"
   ]
  },
  {
   "cell_type": "markdown",
   "id": "3350152f",
   "metadata": {},
   "source": [
    "***"
   ]
  },
  {
   "cell_type": "markdown",
   "id": "ab82ce74",
   "metadata": {},
   "source": [
    "## Square pattern with alphabet symbols in dictionary order"
   ]
  },
  {
   "cell_type": "code",
   "execution_count": 29,
   "id": "e6eae8a0",
   "metadata": {},
   "outputs": [
    {
     "name": "stdout",
     "output_type": "stream",
     "text": [
      "A\n"
     ]
    }
   ],
   "source": [
    "print('A')"
   ]
  },
  {
   "cell_type": "code",
   "execution_count": 28,
   "id": "eb36e695",
   "metadata": {},
   "outputs": [
    {
     "name": "stdout",
     "output_type": "stream",
     "text": [
      "Enter a number of rows : 5\n",
      "A B C D E \n",
      "A B C D E \n",
      "A B C D E \n",
      "A B C D E \n",
      "A B C D E \n"
     ]
    }
   ],
   "source": [
    "n = int(input(\"Enter a number of rows : \"))\n",
    "\n",
    "for i in range(n):\n",
    "    for j in range(n):\n",
    "        print(chr(65+j),end=\" \")\n",
    "    print()"
   ]
  },
  {
   "cell_type": "code",
   "execution_count": 30,
   "id": "4dbccbc0",
   "metadata": {},
   "outputs": [
    {
     "name": "stdout",
     "output_type": "stream",
     "text": [
      "Enter a number of rows : 5\n",
      "A B C D E \n",
      "A B C D E \n",
      "A B C D E \n",
      "A B C D E \n",
      "A B C D E \n"
     ]
    }
   ],
   "source": [
    "n = int(input(\"Enter a number of rows : \"))\n",
    "\n",
    "for i in range(n):\n",
    "    for j in range(n):\n",
    "        print(chr(65+j)+' ',end=\"\")\n",
    "    print()"
   ]
  },
  {
   "cell_type": "markdown",
   "id": "738862b1",
   "metadata": {},
   "source": [
    "***"
   ]
  },
  {
   "cell_type": "markdown",
   "id": "50c808e1",
   "metadata": {},
   "source": [
    "## To print square pattern with digits in descending order"
   ]
  },
  {
   "cell_type": "code",
   "execution_count": 32,
   "id": "8b81572d",
   "metadata": {},
   "outputs": [
    {
     "name": "stdout",
     "output_type": "stream",
     "text": [
      "Enter a number of rows : 6\n",
      "6 6 6 6 6 6 \n",
      "5 5 5 5 5 5 \n",
      "4 4 4 4 4 4 \n",
      "3 3 3 3 3 3 \n",
      "2 2 2 2 2 2 \n",
      "1 1 1 1 1 1 \n"
     ]
    }
   ],
   "source": [
    "n = int(input(\"Enter a number of rows : \"))\n",
    "\n",
    "for i in range(n):\n",
    "    print((str(n-i)+\" \")*n)"
   ]
  },
  {
   "cell_type": "markdown",
   "id": "c4650d84",
   "metadata": {},
   "source": [
    "***"
   ]
  },
  {
   "cell_type": "markdown",
   "id": "70de6713",
   "metadata": {},
   "source": [
    "## To print square pattern with alphabets in reverse of dictionary order"
   ]
  },
  {
   "cell_type": "code",
   "execution_count": 37,
   "id": "da90b974",
   "metadata": {},
   "outputs": [
    {
     "name": "stdout",
     "output_type": "stream",
     "text": [
      "Enter a number of rows : 5\n",
      "E E E E E \n",
      "D D D D D \n",
      "C C C C C \n",
      "B B B B B \n",
      "A A A A A \n"
     ]
    }
   ],
   "source": [
    "n = int(input(\"Enter a number of rows : \"))\n",
    "\n",
    "for i in range(n):\n",
    "    print((chr(64+n-i)+' ')*n)"
   ]
  },
  {
   "cell_type": "markdown",
   "id": "8ccff530",
   "metadata": {},
   "source": [
    "***"
   ]
  },
  {
   "cell_type": "code",
   "execution_count": null,
   "id": "af3b568e",
   "metadata": {},
   "outputs": [],
   "source": []
  }
 ],
 "metadata": {
  "kernelspec": {
   "display_name": "Python 3 (ipykernel)",
   "language": "python",
   "name": "python3"
  },
  "language_info": {
   "codemirror_mode": {
    "name": "ipython",
    "version": 3
   },
   "file_extension": ".py",
   "mimetype": "text/x-python",
   "name": "python",
   "nbconvert_exporter": "python",
   "pygments_lexer": "ipython3",
   "version": "3.10.8"
  }
 },
 "nbformat": 4,
 "nbformat_minor": 5
}
