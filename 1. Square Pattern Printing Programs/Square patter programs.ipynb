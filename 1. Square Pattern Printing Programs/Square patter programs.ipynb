{
 "cells": [
  {
   "cell_type": "markdown",
   "id": "b8f7c049",
   "metadata": {},
   "source": [
    "# Square Patters"
   ]
  },
  {
   "cell_type": "markdown",
   "id": "abc2071b",
   "metadata": {},
   "source": [
    "***"
   ]
  },
  {
   "cell_type": "markdown",
   "id": "902dd629",
   "metadata": {},
   "source": [
    "## To print given number of * in a row"
   ]
  },
  {
   "cell_type": "code",
   "execution_count": 5,
   "id": "45196731",
   "metadata": {},
   "outputs": [
    {
     "name": "stdout",
     "output_type": "stream",
     "text": [
      "Enter a number : 6\n",
      "* * * * * * "
     ]
    }
   ],
   "source": [
    "n = int(input(\"Enter a number : \"))\n",
    "\n",
    "for i in range(n):\n",
    "    print(\"*\" , end=\" \")"
   ]
  },
  {
   "cell_type": "markdown",
   "id": "1918a790",
   "metadata": {},
   "source": [
    "***"
   ]
  },
  {
   "cell_type": "markdown",
   "id": "93ae4737",
   "metadata": {},
   "source": [
    "## To print square pattern with * symbols"
   ]
  },
  {
   "cell_type": "code",
   "execution_count": 8,
   "id": "e79874b8",
   "metadata": {},
   "outputs": [
    {
     "name": "stdout",
     "output_type": "stream",
     "text": [
      "* * * \n"
     ]
    }
   ],
   "source": [
    "print(\"* \"*3)"
   ]
  },
  {
   "cell_type": "code",
   "execution_count": 9,
   "id": "4a8cc4fe",
   "metadata": {},
   "outputs": [
    {
     "name": "stdout",
     "output_type": "stream",
     "text": [
      "* * * * * * * \n"
     ]
    }
   ],
   "source": [
    "print(\"* \"*7)"
   ]
  },
  {
   "cell_type": "code",
   "execution_count": 10,
   "id": "d2875784",
   "metadata": {},
   "outputs": [
    {
     "name": "stdout",
     "output_type": "stream",
     "text": [
      "Enter a number of rows : 5\n",
      "* * * * * \n",
      "* * * * * \n",
      "* * * * * \n",
      "* * * * * \n",
      "* * * * * \n"
     ]
    }
   ],
   "source": [
    "n = int(input(\"Enter a number of rows : \"))\n",
    "\n",
    "for i in range(n):\n",
    "    print(\"* \"*n)"
   ]
  },
  {
   "cell_type": "markdown",
   "id": "de25697a",
   "metadata": {},
   "source": [
    "***"
   ]
  },
  {
   "cell_type": "markdown",
   "id": "2ec557dc",
   "metadata": {},
   "source": [
    "## To print square pattern with provided fixed digit "
   ]
  },
  {
   "cell_type": "code",
   "execution_count": 14,
   "id": "59482d2d",
   "metadata": {},
   "outputs": [
    {
     "name": "stdout",
     "output_type": "stream",
     "text": [
      "Enter a number of rows : 5\n",
      "5     \n",
      "5     \n",
      "5     \n",
      "5     \n",
      "5     \n"
     ]
    }
   ],
   "source": [
    "n = int(input(\"Enter a number of rows : \"))\n",
    "\n",
    "for i in range(n):\n",
    "    print(str(n)+' '*n)   "
   ]
  },
  {
   "cell_type": "code",
   "execution_count": 13,
   "id": "6d7a22c0",
   "metadata": {},
   "outputs": [
    {
     "name": "stdout",
     "output_type": "stream",
     "text": [
      "Enter a number of rows : 5\n",
      "5 5 5 5 5 \n",
      "5 5 5 5 5 \n",
      "5 5 5 5 5 \n",
      "5 5 5 5 5 \n",
      "5 5 5 5 5 \n"
     ]
    }
   ],
   "source": [
    "n = int(input(\"Enter a number of rows : \"))\n",
    "\n",
    "for i in range(n):\n",
    "    print((str(n)+' ')*n)    # print(str(n)+' '*n) --> print((str(n)+' ')*n)"
   ]
  },
  {
   "cell_type": "markdown",
   "id": "4bc8a1a0",
   "metadata": {},
   "source": [
    "***"
   ]
  },
  {
   "cell_type": "markdown",
   "id": "121f8c0f",
   "metadata": {},
   "source": [
    "## Square pattern with provided fixed digit in every row"
   ]
  },
  {
   "cell_type": "code",
   "execution_count": 16,
   "id": "e1e2434e",
   "metadata": {},
   "outputs": [
    {
     "name": "stdout",
     "output_type": "stream",
     "text": [
      "Enter a number of rows : 7\n",
      "1 1 1 1 1 1 1 \n",
      "2 2 2 2 2 2 2 \n",
      "3 3 3 3 3 3 3 \n",
      "4 4 4 4 4 4 4 \n",
      "5 5 5 5 5 5 5 \n",
      "6 6 6 6 6 6 6 \n",
      "7 7 7 7 7 7 7 \n"
     ]
    }
   ],
   "source": [
    "n = int(input(\"Enter a number of rows : \"))\n",
    "\n",
    "for i in range(n):\n",
    "    print((str(i+1)+' ')*n)    "
   ]
  },
  {
   "cell_type": "code",
   "execution_count": null,
   "id": "5ce4645e",
   "metadata": {},
   "outputs": [],
   "source": []
  }
 ],
 "metadata": {
  "kernelspec": {
   "display_name": "Python 3 (ipykernel)",
   "language": "python",
   "name": "python3"
  },
  "language_info": {
   "codemirror_mode": {
    "name": "ipython",
    "version": 3
   },
   "file_extension": ".py",
   "mimetype": "text/x-python",
   "name": "python",
   "nbconvert_exporter": "python",
   "pygments_lexer": "ipython3",
   "version": "3.10.8"
  }
 },
 "nbformat": 4,
 "nbformat_minor": 5
}
