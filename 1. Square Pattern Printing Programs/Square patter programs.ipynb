{
 "cells": [
  {
   "cell_type": "markdown",
   "id": "2ba86398",
   "metadata": {},
   "source": [
    "# Square Patters"
   ]
  },
  {
   "cell_type": "markdown",
   "id": "cb5330af",
   "metadata": {},
   "source": [
    "***"
   ]
  },
  {
   "cell_type": "markdown",
   "id": "b8e8bb19",
   "metadata": {},
   "source": [
    "## To print given number of * in a row"
   ]
  },
  {
   "cell_type": "code",
   "execution_count": 5,
   "id": "f9f685bb",
   "metadata": {},
   "outputs": [
    {
     "name": "stdout",
     "output_type": "stream",
     "text": [
      "Enter a number : 6\n",
      "* * * * * * "
     ]
    }
   ],
   "source": [
    "n = int(input(\"Enter a number : \"))\n",
    "\n",
    "for i in range(n):\n",
    "    print(\"*\" , end=\" \")"
   ]
  },
  {
   "cell_type": "markdown",
   "id": "ce66c2c0",
   "metadata": {},
   "source": [
    "***"
   ]
  },
  {
   "cell_type": "markdown",
   "id": "b5020efe",
   "metadata": {},
   "source": [
    "## To print square pattern with * symbols"
   ]
  },
  {
   "cell_type": "code",
   "execution_count": 8,
   "id": "e751a497",
   "metadata": {},
   "outputs": [
    {
     "name": "stdout",
     "output_type": "stream",
     "text": [
      "* * * \n"
     ]
    }
   ],
   "source": [
    "print(\"* \"*3)"
   ]
  },
  {
   "cell_type": "code",
   "execution_count": 9,
   "id": "beeb4314",
   "metadata": {},
   "outputs": [
    {
     "name": "stdout",
     "output_type": "stream",
     "text": [
      "* * * * * * * \n"
     ]
    }
   ],
   "source": [
    "print(\"* \"*7)"
   ]
  },
  {
   "cell_type": "code",
   "execution_count": 10,
   "id": "831d6565",
   "metadata": {},
   "outputs": [
    {
     "name": "stdout",
     "output_type": "stream",
     "text": [
      "Enter a number of rows : 5\n",
      "* * * * * \n",
      "* * * * * \n",
      "* * * * * \n",
      "* * * * * \n",
      "* * * * * \n"
     ]
    }
   ],
   "source": [
    "n = int(input(\"Enter a number of rows : \"))\n",
    "\n",
    "for i in range(n):\n",
    "    print(\"* \"*n)"
   ]
  },
  {
   "cell_type": "markdown",
   "id": "af869c8c",
   "metadata": {},
   "source": [
    "***"
   ]
  },
  {
   "cell_type": "markdown",
   "id": "e4d92d63",
   "metadata": {},
   "source": [
    "## To print square pattern with provided fixed digit "
   ]
  },
  {
   "cell_type": "code",
   "execution_count": 14,
   "id": "340abc29",
   "metadata": {},
   "outputs": [
    {
     "name": "stdout",
     "output_type": "stream",
     "text": [
      "Enter a number of rows : 5\n",
      "5     \n",
      "5     \n",
      "5     \n",
      "5     \n",
      "5     \n"
     ]
    }
   ],
   "source": [
    "n = int(input(\"Enter a number of rows : \"))\n",
    "\n",
    "for i in range(n):\n",
    "    print(str(n)+' '*n)   "
   ]
  },
  {
   "cell_type": "code",
   "execution_count": 13,
   "id": "3f4bc224",
   "metadata": {},
   "outputs": [
    {
     "name": "stdout",
     "output_type": "stream",
     "text": [
      "Enter a number of rows : 5\n",
      "5 5 5 5 5 \n",
      "5 5 5 5 5 \n",
      "5 5 5 5 5 \n",
      "5 5 5 5 5 \n",
      "5 5 5 5 5 \n"
     ]
    }
   ],
   "source": [
    "n = int(input(\"Enter a number of rows : \"))\n",
    "\n",
    "for i in range(n):\n",
    "    print((str(n)+' ')*n)    # print(str(n)+' '*n) --> print((str(n)+' ')*n)"
   ]
  },
  {
   "cell_type": "markdown",
   "id": "70dfbaf4",
   "metadata": {},
   "source": [
    "***"
   ]
  },
  {
   "cell_type": "markdown",
   "id": "dca0a5b4",
   "metadata": {},
   "source": [
    "## Square pattern with provided fixed digit in every row"
   ]
  },
  {
   "cell_type": "code",
   "execution_count": 16,
   "id": "e94f7dbe",
   "metadata": {},
   "outputs": [
    {
     "name": "stdout",
     "output_type": "stream",
     "text": [
      "Enter a number of rows : 7\n",
      "1 1 1 1 1 1 1 \n",
      "2 2 2 2 2 2 2 \n",
      "3 3 3 3 3 3 3 \n",
      "4 4 4 4 4 4 4 \n",
      "5 5 5 5 5 5 5 \n",
      "6 6 6 6 6 6 6 \n",
      "7 7 7 7 7 7 7 \n"
     ]
    }
   ],
   "source": [
    "n = int(input(\"Enter a number of rows : \"))\n",
    "\n",
    "for i in range(n):\n",
    "    print((str(i+1)+' ')*n)    "
   ]
  },
  {
   "cell_type": "markdown",
   "id": "2fc439b0",
   "metadata": {},
   "source": [
    "***"
   ]
  },
  {
   "cell_type": "markdown",
   "id": "b05b9c55",
   "metadata": {},
   "source": [
    "##  To print square pattern with fixed alphabet symbol"
   ]
  },
  {
   "cell_type": "code",
   "execution_count": 17,
   "id": "fe2abfb3",
   "metadata": {},
   "outputs": [
    {
     "name": "stdout",
     "output_type": "stream",
     "text": [
      "Enter a number of rows : 6\n",
      "A A A A A A \n",
      "A A A A A A \n",
      "A A A A A A \n",
      "A A A A A A \n",
      "A A A A A A \n",
      "A A A A A A \n"
     ]
    }
   ],
   "source": [
    "n = int(input(\"Enter a number of rows : \"))\n",
    "\n",
    "for i in range(n):\n",
    "    print('A '*n)    "
   ]
  },
  {
   "cell_type": "markdown",
   "id": "42dcd757",
   "metadata": {},
   "source": [
    "***"
   ]
  },
  {
   "cell_type": "markdown",
   "id": "ec5ca40d",
   "metadata": {},
   "source": [
    "## To print square pattern with digits"
   ]
  },
  {
   "cell_type": "code",
   "execution_count": 24,
   "id": "2979f69f",
   "metadata": {},
   "outputs": [
    {
     "name": "stdout",
     "output_type": "stream",
     "text": [
      "Enter a number of rows : 5\n",
      "1 2 3 4 5 \n",
      "1 2 3 4 5 \n",
      "1 2 3 4 5 \n",
      "1 2 3 4 5 \n",
      "1 2 3 4 5 \n"
     ]
    }
   ],
   "source": [
    "n = int(input(\"Enter a number of rows : \"))\n",
    "\n",
    "for i in range(n):\n",
    "    for j in range(n):\n",
    "        print((j+1) , end=\" \")\n",
    "    print()"
   ]
  },
  {
   "cell_type": "markdown",
   "id": "ec24de05",
   "metadata": {},
   "source": [
    "***"
   ]
  },
  {
   "cell_type": "markdown",
   "id": "3b844b9c",
   "metadata": {},
   "source": [
    "## Square pattern with alphabet symbols in dictionary order"
   ]
  },
  {
   "cell_type": "code",
   "execution_count": 29,
   "id": "18152173",
   "metadata": {},
   "outputs": [
    {
     "name": "stdout",
     "output_type": "stream",
     "text": [
      "A\n"
     ]
    }
   ],
   "source": [
    "print('A')"
   ]
  },
  {
   "cell_type": "code",
   "execution_count": 28,
   "id": "ee1f988d",
   "metadata": {},
   "outputs": [
    {
     "name": "stdout",
     "output_type": "stream",
     "text": [
      "Enter a number of rows : 5\n",
      "A B C D E \n",
      "A B C D E \n",
      "A B C D E \n",
      "A B C D E \n",
      "A B C D E \n"
     ]
    }
   ],
   "source": [
    "n = int(input(\"Enter a number of rows : \"))\n",
    "\n",
    "for i in range(n):\n",
    "    for j in range(n):\n",
    "        print(chr(65+j),end=\" \")\n",
    "    print()"
   ]
  },
  {
   "cell_type": "code",
   "execution_count": 30,
   "id": "ff0507ee",
   "metadata": {},
   "outputs": [
    {
     "name": "stdout",
     "output_type": "stream",
     "text": [
      "Enter a number of rows : 5\n",
      "A B C D E \n",
      "A B C D E \n",
      "A B C D E \n",
      "A B C D E \n",
      "A B C D E \n"
     ]
    }
   ],
   "source": [
    "n = int(input(\"Enter a number of rows : \"))\n",
    "\n",
    "for i in range(n):\n",
    "    for j in range(n):\n",
    "        print(chr(65+j)+' ',end=\"\")\n",
    "    print()"
   ]
  },
  {
   "cell_type": "markdown",
   "id": "01b21e91",
   "metadata": {},
   "source": [
    "***"
   ]
  },
  {
   "cell_type": "markdown",
   "id": "f83043b7",
   "metadata": {},
   "source": [
    "## To print square pattern with digits in descending order"
   ]
  },
  {
   "cell_type": "code",
   "execution_count": 32,
   "id": "5957ccad",
   "metadata": {},
   "outputs": [
    {
     "name": "stdout",
     "output_type": "stream",
     "text": [
      "Enter a number of rows : 6\n",
      "6 6 6 6 6 6 \n",
      "5 5 5 5 5 5 \n",
      "4 4 4 4 4 4 \n",
      "3 3 3 3 3 3 \n",
      "2 2 2 2 2 2 \n",
      "1 1 1 1 1 1 \n"
     ]
    }
   ],
   "source": [
    "n = int(input(\"Enter a number of rows : \"))\n",
    "\n",
    "for i in range(n):\n",
    "    print((str(n-i)+\" \")*n)"
   ]
  },
  {
   "cell_type": "markdown",
   "id": "127bbf4c",
   "metadata": {},
   "source": [
    "***"
   ]
  },
  {
   "cell_type": "markdown",
   "id": "a5abad7c",
   "metadata": {},
   "source": [
    "## To print square pattern with alphabets in reverse of dictionary order"
   ]
  },
  {
   "cell_type": "code",
   "execution_count": 37,
   "id": "e610991f",
   "metadata": {},
   "outputs": [
    {
     "name": "stdout",
     "output_type": "stream",
     "text": [
      "Enter a number of rows : 5\n",
      "E E E E E \n",
      "D D D D D \n",
      "C C C C C \n",
      "B B B B B \n",
      "A A A A A \n"
     ]
    }
   ],
   "source": [
    "n = int(input(\"Enter a number of rows : \"))\n",
    "\n",
    "for i in range(n):\n",
    "    print((chr(64+n-i)+' ')*n)"
   ]
  },
  {
   "cell_type": "markdown",
   "id": "2e0c11ad",
   "metadata": {},
   "source": [
    "***"
   ]
  },
  {
   "cell_type": "markdown",
   "id": "1127462a",
   "metadata": {},
   "source": [
    "## To print square pattern with digits in descending order "
   ]
  },
  {
   "cell_type": "code",
   "execution_count": 38,
   "id": "4e8a02c6",
   "metadata": {},
   "outputs": [
    {
     "name": "stdout",
     "output_type": "stream",
     "text": [
      "Enter a number of rows : 5\n",
      "5 4 3 2 1 \n",
      "5 4 3 2 1 \n",
      "5 4 3 2 1 \n",
      "5 4 3 2 1 \n",
      "5 4 3 2 1 \n"
     ]
    }
   ],
   "source": [
    "n = int(input(\"Enter a number of rows : \"))\n",
    "\n",
    "for i in range(n):\n",
    "    for j in range(n):\n",
    "        print((n-j),end=' ')\n",
    "    print()"
   ]
  },
  {
   "cell_type": "markdown",
   "id": "7c737328",
   "metadata": {},
   "source": [
    "***"
   ]
  },
  {
   "cell_type": "markdown",
   "id": "fcb49b56",
   "metadata": {},
   "source": [
    "## To print square pattern with alphabets in reverse of dictionary order"
   ]
  },
  {
   "cell_type": "code",
   "execution_count": 39,
   "id": "21c7b9ec",
   "metadata": {},
   "outputs": [
    {
     "name": "stdout",
     "output_type": "stream",
     "text": [
      "Enter a number of rows : 5\n",
      "E D C B A \n",
      "E D C B A \n",
      "E D C B A \n",
      "E D C B A \n",
      "E D C B A \n"
     ]
    }
   ],
   "source": [
    "n = int(input(\"Enter a number of rows : \"))\n",
    "\n",
    "for i in range(n):\n",
    "    for j in range(n):\n",
    "        print(chr(64+n-j),end=' ')\n",
    "    print()"
   ]
  },
  {
   "cell_type": "code",
   "execution_count": null,
   "id": "8c766177",
   "metadata": {},
   "outputs": [],
   "source": []
  }
 ],
 "metadata": {
  "kernelspec": {
   "display_name": "Python 3 (ipykernel)",
   "language": "python",
   "name": "python3"
  },
  "language_info": {
   "codemirror_mode": {
    "name": "ipython",
    "version": 3
   },
   "file_extension": ".py",
   "mimetype": "text/x-python",
   "name": "python",
   "nbconvert_exporter": "python",
   "pygments_lexer": "ipython3",
   "version": "3.10.8"
  }
 },
 "nbformat": 4,
 "nbformat_minor": 5
}
