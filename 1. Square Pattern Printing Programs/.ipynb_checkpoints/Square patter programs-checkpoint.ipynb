{
 "cells": [
  {
   "cell_type": "markdown",
   "id": "988ca24d",
   "metadata": {},
   "source": [
    "# Square Patters"
   ]
  },
  {
   "cell_type": "markdown",
   "id": "31572b06",
   "metadata": {},
   "source": [
    "***"
   ]
  },
  {
   "cell_type": "markdown",
   "id": "beca8606",
   "metadata": {},
   "source": [
    "## To print given number of * in a row"
   ]
  },
  {
   "cell_type": "code",
   "execution_count": 5,
   "id": "648d027a",
   "metadata": {},
   "outputs": [
    {
     "name": "stdout",
     "output_type": "stream",
     "text": [
      "Enter a number : 6\n",
      "* * * * * * "
     ]
    }
   ],
   "source": [
    "n = int(input(\"Enter a number : \"))\n",
    "\n",
    "for i in range(n):\n",
    "    print(\"*\" , end=\" \")"
   ]
  },
  {
   "cell_type": "markdown",
   "id": "639c0d13",
   "metadata": {},
   "source": [
    "***"
   ]
  },
  {
   "cell_type": "markdown",
   "id": "ba29d8e6",
   "metadata": {},
   "source": [
    "## To print square pattern with * symbols"
   ]
  },
  {
   "cell_type": "code",
   "execution_count": 8,
   "id": "a0677876",
   "metadata": {},
   "outputs": [
    {
     "name": "stdout",
     "output_type": "stream",
     "text": [
      "* * * \n"
     ]
    }
   ],
   "source": [
    "print(\"* \"*3)"
   ]
  },
  {
   "cell_type": "code",
   "execution_count": 9,
   "id": "7a7a1180",
   "metadata": {},
   "outputs": [
    {
     "name": "stdout",
     "output_type": "stream",
     "text": [
      "* * * * * * * \n"
     ]
    }
   ],
   "source": [
    "print(\"* \"*7)"
   ]
  },
  {
   "cell_type": "code",
   "execution_count": 10,
   "id": "8a0b38ea",
   "metadata": {},
   "outputs": [
    {
     "name": "stdout",
     "output_type": "stream",
     "text": [
      "Enter a number of rows : 5\n",
      "* * * * * \n",
      "* * * * * \n",
      "* * * * * \n",
      "* * * * * \n",
      "* * * * * \n"
     ]
    }
   ],
   "source": [
    "n = int(input(\"Enter a number of rows : \"))\n",
    "\n",
    "for i in range(n):\n",
    "    print(\"* \"*n)"
   ]
  },
  {
   "cell_type": "markdown",
   "id": "97211963",
   "metadata": {},
   "source": [
    "***"
   ]
  },
  {
   "cell_type": "markdown",
   "id": "434e8ab9",
   "metadata": {},
   "source": [
    "## To print square pattern with provided fixed digit "
   ]
  },
  {
   "cell_type": "code",
   "execution_count": 14,
   "id": "7d2406e1",
   "metadata": {},
   "outputs": [
    {
     "name": "stdout",
     "output_type": "stream",
     "text": [
      "Enter a number of rows : 5\n",
      "5     \n",
      "5     \n",
      "5     \n",
      "5     \n",
      "5     \n"
     ]
    }
   ],
   "source": [
    "n = int(input(\"Enter a number of rows : \"))\n",
    "\n",
    "for i in range(n):\n",
    "    print(str(n)+' '*n)   "
   ]
  },
  {
   "cell_type": "code",
   "execution_count": 13,
   "id": "3b379f66",
   "metadata": {},
   "outputs": [
    {
     "name": "stdout",
     "output_type": "stream",
     "text": [
      "Enter a number of rows : 5\n",
      "5 5 5 5 5 \n",
      "5 5 5 5 5 \n",
      "5 5 5 5 5 \n",
      "5 5 5 5 5 \n",
      "5 5 5 5 5 \n"
     ]
    }
   ],
   "source": [
    "n = int(input(\"Enter a number of rows : \"))\n",
    "\n",
    "for i in range(n):\n",
    "    print((str(n)+' ')*n)    # print(str(n)+' '*n) --> print((str(n)+' ')*n)"
   ]
  },
  {
   "cell_type": "markdown",
   "id": "d35a4978",
   "metadata": {},
   "source": [
    "***"
   ]
  },
  {
   "cell_type": "code",
   "execution_count": null,
   "id": "84edd7e4",
   "metadata": {},
   "outputs": [],
   "source": []
  }
 ],
 "metadata": {
  "kernelspec": {
   "display_name": "Python 3 (ipykernel)",
   "language": "python",
   "name": "python3"
  },
  "language_info": {
   "codemirror_mode": {
    "name": "ipython",
    "version": 3
   },
   "file_extension": ".py",
   "mimetype": "text/x-python",
   "name": "python",
   "nbconvert_exporter": "python",
   "pygments_lexer": "ipython3",
   "version": "3.10.8"
  }
 },
 "nbformat": 4,
 "nbformat_minor": 5
}
