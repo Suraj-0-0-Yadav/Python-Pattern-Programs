{
 "cells": [
  {
   "cell_type": "markdown",
   "id": "422a0134",
   "metadata": {},
   "source": [
    "# Square Patters"
   ]
  },
  {
   "cell_type": "markdown",
   "id": "c2bada55",
   "metadata": {},
   "source": [
    "***"
   ]
  },
  {
   "cell_type": "markdown",
   "id": "e0726f54",
   "metadata": {},
   "source": [
    "## To print given number of * in a row"
   ]
  },
  {
   "cell_type": "code",
   "execution_count": 4,
   "id": "7531ce1f",
   "metadata": {},
   "outputs": [
    {
     "name": "stdout",
     "output_type": "stream",
     "text": [
      "Enter a number : 3\n",
      "* * * "
     ]
    }
   ],
   "source": [
    "n = int(input(\"Enter a number : \"))\n",
    "\n",
    "for i in range(n):\n",
    "    print(\"*\" , end=\" \")"
   ]
  },
  {
   "cell_type": "code",
   "execution_count": null,
   "id": "7db5bb35",
   "metadata": {},
   "outputs": [],
   "source": []
  }
 ],
 "metadata": {
  "kernelspec": {
   "display_name": "Python 3 (ipykernel)",
   "language": "python",
   "name": "python3"
  },
  "language_info": {
   "codemirror_mode": {
    "name": "ipython",
    "version": 3
   },
   "file_extension": ".py",
   "mimetype": "text/x-python",
   "name": "python",
   "nbconvert_exporter": "python",
   "pygments_lexer": "ipython3",
   "version": "3.10.8"
  }
 },
 "nbformat": 4,
 "nbformat_minor": 5
}
