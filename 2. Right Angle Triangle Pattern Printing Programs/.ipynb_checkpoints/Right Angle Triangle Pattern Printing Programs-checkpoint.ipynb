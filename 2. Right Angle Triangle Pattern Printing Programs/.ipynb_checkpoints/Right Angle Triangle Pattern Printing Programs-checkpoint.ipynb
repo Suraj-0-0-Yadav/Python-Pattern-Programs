{
 "cells": [
  {
   "cell_type": "markdown",
   "id": "96758928",
   "metadata": {},
   "source": [
    "##  To print Right Angle Triangle pattern with * symbols"
   ]
  },
  {
   "cell_type": "code",
   "execution_count": 2,
   "id": "74979b92",
   "metadata": {},
   "outputs": [
    {
     "name": "stdout",
     "output_type": "stream",
     "text": [
      "Enter the number of rows : 5\n",
      "* \n",
      "* * \n",
      "* * * \n",
      "* * * * \n",
      "* * * * * \n"
     ]
    }
   ],
   "source": [
    "n = int(input(\"Enter the number of rows : \"))\n",
    "\n",
    "for i in range(n):\n",
    "    print(\"* \"*(i+1))"
   ]
  },
  {
   "cell_type": "code",
   "execution_count": 8,
   "id": "97577b4e",
   "metadata": {},
   "outputs": [
    {
     "name": "stdout",
     "output_type": "stream",
     "text": [
      "Enter the number of rows : 5\n",
      "* \n",
      "* * \n",
      "* * * \n",
      "* * * * \n",
      "* * * * * \n"
     ]
    }
   ],
   "source": [
    "n = int(input(\"Enter the number of rows : \"))\n",
    "\n",
    "for i in range(n):\n",
    "    for j in range(i+1):\n",
    "        print(\"*\",end=\" \")\n",
    "    print()"
   ]
  },
  {
   "cell_type": "markdown",
   "id": "b1f4ea83",
   "metadata": {},
   "source": [
    "***"
   ]
  },
  {
   "cell_type": "markdown",
   "id": "3c8f66ee",
   "metadata": {},
   "source": [
    "## To print Right Angle Triangle pattern with digits in ascending order in every row"
   ]
  },
  {
   "cell_type": "code",
   "execution_count": 10,
   "id": "a6620b5b",
   "metadata": {},
   "outputs": [
    {
     "name": "stdout",
     "output_type": "stream",
     "text": [
      "Enter the number of rows : 5\n",
      "1 \n",
      "2 2 \n",
      "3 3 3 \n",
      "4 4 4 4 \n",
      "5 5 5 5 5 \n"
     ]
    }
   ],
   "source": [
    "n = int(input(\"Enter the number of rows : \"))\n",
    "\n",
    "for i in range(n):\n",
    "    for j in range(i+1):\n",
    "        print(i+1,end=\" \")\n",
    "    print()"
   ]
  },
  {
   "cell_type": "code",
   "execution_count": 11,
   "id": "1e3b7172",
   "metadata": {},
   "outputs": [
    {
     "name": "stdout",
     "output_type": "stream",
     "text": [
      "Enter the number of rows : 5\n",
      "1 \n",
      "2 2 \n",
      "3 3 3 \n",
      "4 4 4 4 \n",
      "5 5 5 5 5 \n"
     ]
    }
   ],
   "source": [
    "n = int(input(\"Enter the number of rows : \"))\n",
    "\n",
    "for i in range(n):\n",
    "    print((str(i+1)+\" \")*(i+1))"
   ]
  },
  {
   "cell_type": "markdown",
   "id": "c751e319",
   "metadata": {},
   "source": [
    "***"
   ]
  },
  {
   "cell_type": "markdown",
   "id": "ed2c5362",
   "metadata": {},
   "source": [
    "## To print Right Angle Triangle pattern with fixed alphabet symbol in every row"
   ]
  },
  {
   "cell_type": "code",
   "execution_count": 19,
   "id": "09798c95",
   "metadata": {},
   "outputs": [
    {
     "name": "stdout",
     "output_type": "stream",
     "text": [
      "Enter the number of rows : 5\n",
      "A \n",
      "B B \n",
      "C C C \n",
      "D D D D \n",
      "E E E E E \n"
     ]
    }
   ],
   "source": [
    "n = int(input(\"Enter the number of rows : \"))\n",
    "\n",
    "for i in range(n):\n",
    "    for j in range(i+1):\n",
    "        print(chr(65+i),end=\" \")\n",
    "    print()"
   ]
  },
  {
   "cell_type": "code",
   "execution_count": 20,
   "id": "26ecdd23",
   "metadata": {},
   "outputs": [
    {
     "name": "stdout",
     "output_type": "stream",
     "text": [
      "Enter the number of rows : 5\n",
      "A \n",
      "B B \n",
      "C C C \n",
      "D D D D \n",
      "E E E E E \n"
     ]
    }
   ],
   "source": [
    "n = int(input(\"Enter the number of rows : \"))\n",
    "\n",
    "for i in range(n):\n",
    "    print((chr(65+i)+\" \")*(i+1))"
   ]
  },
  {
   "cell_type": "markdown",
   "id": "addc607d",
   "metadata": {},
   "source": [
    "***"
   ]
  },
  {
   "cell_type": "markdown",
   "id": "72c5510c",
   "metadata": {},
   "source": [
    "## To print Right Angle Triangle pattern with digits in ascending order in every row\n"
   ]
  },
  {
   "cell_type": "code",
   "execution_count": 24,
   "id": "3c8cde00",
   "metadata": {},
   "outputs": [
    {
     "name": "stdout",
     "output_type": "stream",
     "text": [
      "Enter the number of rows : 5\n",
      "1 \n",
      "1 2 \n",
      "1 2 3 \n",
      "1 2 3 4 \n",
      "1 2 3 4 5 \n"
     ]
    }
   ],
   "source": [
    "n = int(input(\"Enter the number of rows : \"))\n",
    "\n",
    "for i in range(n):\n",
    "    for j in range(i+1):\n",
    "        print(j+1,end=\" \")\n",
    "    print()"
   ]
  },
  {
   "cell_type": "code",
   "execution_count": 22,
   "id": "7074281e",
   "metadata": {},
   "outputs": [
    {
     "name": "stdout",
     "output_type": "stream",
     "text": [
      "Enter the number of rows : 5\n",
      "1\n",
      "1 2\n",
      "1 2 3\n",
      "1 2 3 4\n",
      "1 2 3 4 5\n"
     ]
    }
   ],
   "source": [
    "n = int(input(\"Enter the number of rows : \"))\n",
    "\n",
    "for i in range(n):\n",
    "    print(*list(range(1,i+2)))"
   ]
  },
  {
   "cell_type": "markdown",
   "id": "5e3306ad",
   "metadata": {},
   "source": [
    "***"
   ]
  },
  {
   "cell_type": "markdown",
   "id": "6f13728c",
   "metadata": {},
   "source": [
    "## To print Right Angle Triangle pattern with fixed alphabet symbol in every row"
   ]
  },
  {
   "cell_type": "code",
   "execution_count": 29,
   "id": "ff14032e",
   "metadata": {},
   "outputs": [
    {
     "name": "stdout",
     "output_type": "stream",
     "text": [
      "Enter the number of rows : 5\n",
      "A \n",
      "A B \n",
      "A B C \n",
      "A B C D \n",
      "A B C D E \n"
     ]
    }
   ],
   "source": [
    "n = int(input(\"Enter the number of rows : \"))\n",
    "\n",
    "for i in range(n):\n",
    "    for j in range(i+1):\n",
    "        print(chr(65+j),end=' ')\n",
    "    print()"
   ]
  },
  {
   "cell_type": "code",
   "execution_count": 33,
   "id": "36a86497",
   "metadata": {},
   "outputs": [
    {
     "name": "stdout",
     "output_type": "stream",
     "text": [
      "Enter the number of rows : 5\n",
      "A\n",
      "A B\n",
      "A B C\n",
      "A B C D\n",
      "A B C D E\n"
     ]
    }
   ],
   "source": [
    "n = int(input(\"Enter the number of rows : \"))\n",
    "\n",
    "for i in range(n):\n",
    "    print(*[(chr(65+j)) for j in range(i+1)])"
   ]
  },
  {
   "cell_type": "markdown",
   "id": "24fcb447",
   "metadata": {},
   "source": [
    "***"
   ]
  },
  {
   "cell_type": "markdown",
   "id": "b8913f1a",
   "metadata": {},
   "source": [
    "## To print Right Angle Triangle pattern with digits in descending order in every row"
   ]
  },
  {
   "cell_type": "code",
   "execution_count": 34,
   "id": "51669a06",
   "metadata": {},
   "outputs": [
    {
     "name": "stdout",
     "output_type": "stream",
     "text": [
      "Enter the number of rows : 5\n",
      "5 \n",
      "5 4 \n",
      "5 4 3 \n",
      "5 4 3 2 \n",
      "5 4 3 2 1 \n"
     ]
    }
   ],
   "source": [
    "n = int(input(\"Enter the number of rows : \"))\n",
    "\n",
    "for i in range(n):\n",
    "    for j in range(i+1):\n",
    "        print(n-j,end=' ')\n",
    "    print()"
   ]
  },
  {
   "cell_type": "markdown",
   "id": "ec6dde69",
   "metadata": {},
   "source": [
    "***"
   ]
  },
  {
   "cell_type": "markdown",
   "id": "c7f0ddc2",
   "metadata": {},
   "source": [
    "## To print Right Angle Triangle pattern with alphabet symbols in reverse of dictionary order in every row"
   ]
  },
  {
   "cell_type": "code",
   "execution_count": 35,
   "id": "7749b44c",
   "metadata": {},
   "outputs": [
    {
     "name": "stdout",
     "output_type": "stream",
     "text": [
      "Enter the number of rows : 5\n",
      "E \n",
      "E D \n",
      "E D C \n",
      "E D C B \n",
      "E D C B A \n"
     ]
    }
   ],
   "source": [
    "n = int(input(\"Enter the number of rows : \"))\n",
    "\n",
    "for i in range(n):\n",
    "    for j in range(i+1):\n",
    "        print(chr(64+n-j),end=' ')\n",
    "    print()"
   ]
  },
  {
   "cell_type": "markdown",
   "id": "4eb7cbda",
   "metadata": {},
   "source": [
    "***"
   ]
  },
  {
   "cell_type": "code",
   "execution_count": null,
   "id": "241b51a1",
   "metadata": {},
   "outputs": [],
   "source": []
  }
 ],
 "metadata": {
  "kernelspec": {
   "display_name": "Python 3 (ipykernel)",
   "language": "python",
   "name": "python3"
  },
  "language_info": {
   "codemirror_mode": {
    "name": "ipython",
    "version": 3
   },
   "file_extension": ".py",
   "mimetype": "text/x-python",
   "name": "python",
   "nbconvert_exporter": "python",
   "pygments_lexer": "ipython3",
   "version": "3.10.8"
  }
 },
 "nbformat": 4,
 "nbformat_minor": 5
}
