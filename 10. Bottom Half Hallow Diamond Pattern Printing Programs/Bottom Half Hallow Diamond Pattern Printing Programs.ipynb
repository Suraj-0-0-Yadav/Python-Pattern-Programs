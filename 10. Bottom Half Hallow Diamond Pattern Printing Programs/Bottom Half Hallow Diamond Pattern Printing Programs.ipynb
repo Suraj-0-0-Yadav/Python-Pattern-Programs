{
 "cells": [
  {
   "cell_type": "markdown",
   "id": "1341d094",
   "metadata": {},
   "source": [
    "## To print Bottom Half Hallow Diamond Pattern with * symbols"
   ]
  },
  {
   "cell_type": "code",
   "execution_count": 3,
   "id": "23df5d91",
   "metadata": {},
   "outputs": [
    {
     "name": "stdout",
     "output_type": "stream",
     "text": [
      "Enter the number of rows : 6\n",
      "\n",
      "*                   * \n",
      "  *               * \n",
      "    *           * \n",
      "      *       * \n",
      "        *   * \n",
      "          * \n"
     ]
    }
   ],
   "source": [
    "n = int(input('Enter the number of rows : '))\n",
    "print()\n",
    "\n",
    "for i in range(n):\n",
    "    print('  '*(i) + '* ' , end='')\n",
    "    \n",
    "    if i != n-1:\n",
    "        print('  '*(2*n-2*i-3) + '* ',end='')\n",
    "    print()"
   ]
  },
  {
   "cell_type": "markdown",
   "id": "ad7f73b9",
   "metadata": {},
   "source": [
    "***"
   ]
  },
  {
   "cell_type": "markdown",
   "id": "72633e56",
   "metadata": {},
   "source": [
    "## To print Bottom Half Hallow Diamond Pattern with fixed digit in every row\n"
   ]
  },
  {
   "cell_type": "code",
   "execution_count": 5,
   "id": "2c7fe1b5",
   "metadata": {},
   "outputs": [
    {
     "name": "stdout",
     "output_type": "stream",
     "text": [
      "Enter the number of rows : 5\n",
      "\n",
      "5               5 \n",
      "  4           4 \n",
      "    3       3 \n",
      "      2   2 \n",
      "        1 \n"
     ]
    }
   ],
   "source": [
    "n = int(input('Enter the number of rows : '))\n",
    "print()\n",
    "\n",
    "for i in range(n):\n",
    "    print('  '*(i) + str(n-i)+\" \" , end='')\n",
    "    \n",
    "    if i != n-1:\n",
    "        print('  '*(2*n-2*i-3) + str(n-i)+\" \",end='')\n",
    "    print()"
   ]
  },
  {
   "cell_type": "markdown",
   "id": "bd95e67a",
   "metadata": {},
   "source": [
    "***"
   ]
  },
  {
   "cell_type": "markdown",
   "id": "4bb5bb48",
   "metadata": {},
   "source": [
    "## To print Bottom Half Hollw Diamond Pattern with numbers in descending order"
   ]
  },
  {
   "cell_type": "code",
   "execution_count": 6,
   "id": "2568a93a",
   "metadata": {},
   "outputs": [
    {
     "name": "stdout",
     "output_type": "stream",
     "text": [
      "Enter the number of rows : 5\n",
      "\n",
      "1               1 \n",
      "  2           2 \n",
      "    3       3 \n",
      "      4   4 \n",
      "        5 \n"
     ]
    }
   ],
   "source": [
    "n = int(input('Enter the number of rows : '))\n",
    "print()\n",
    "\n",
    "for i in range(n):\n",
    "    print('  '*(i) + str(i+1)+\" \" , end='')\n",
    "    \n",
    "    if i != n-1:\n",
    "        print('  '*(2*n-2*i-3) + str(i+1)+\" \",end='')\n",
    "    print()"
   ]
  },
  {
   "cell_type": "markdown",
   "id": "a0760fd9",
   "metadata": {},
   "source": [
    "***"
   ]
  },
  {
   "cell_type": "markdown",
   "id": "e3928529",
   "metadata": {},
   "source": [
    "## To print Bottom Half Hollw Diamond Pattern with aplhabet symbols in reverse of dictionary order"
   ]
  },
  {
   "cell_type": "code",
   "execution_count": 8,
   "id": "7dbe0f2e",
   "metadata": {},
   "outputs": [
    {
     "name": "stdout",
     "output_type": "stream",
     "text": [
      "Enter the number of rows : 5\n",
      "\n",
      "A               A \n",
      "  B           B \n",
      "    C       C \n",
      "      D   D \n",
      "        E \n"
     ]
    }
   ],
   "source": [
    "n = int(input('Enter the number of rows : '))\n",
    "print()\n",
    "\n",
    "for i in range(n):\n",
    "    print('  '*(i) + chr(65+i)+\" \" , end='')\n",
    "    \n",
    "    if i != n-1:\n",
    "        print('  '*(2*n-2*i-3) + chr(65+i)+\" \",end='')\n",
    "    print()"
   ]
  },
  {
   "cell_type": "markdown",
   "id": "fc062096",
   "metadata": {},
   "source": [
    "***"
   ]
  },
  {
   "cell_type": "markdown",
   "id": "3950fa3d",
   "metadata": {},
   "source": [
    "## To print Bottom Half Hallow Diamond Pattern with fixed alphabet symbol in every row"
   ]
  },
  {
   "cell_type": "code",
   "execution_count": 9,
   "id": "cbbd8496",
   "metadata": {},
   "outputs": [
    {
     "name": "stdout",
     "output_type": "stream",
     "text": [
      "Enter the number of rows : 5\n",
      "\n",
      "E               E \n",
      "  D           D \n",
      "    C       C \n",
      "      B   B \n",
      "        A \n"
     ]
    }
   ],
   "source": [
    "n = int(input('Enter the number of rows : '))\n",
    "print()\n",
    "\n",
    "for i in range(n):\n",
    "    print('  '*(i) + chr(64+n-i)+\" \" , end='')\n",
    "    \n",
    "    if i != n-1:\n",
    "        print('  '*(2*n-2*i-3) + chr(64+n-i)+\" \",end='')\n",
    "    print()"
   ]
  },
  {
   "cell_type": "markdown",
   "id": "8ac36a71",
   "metadata": {},
   "source": [
    "***"
   ]
  },
  {
   "cell_type": "code",
   "execution_count": null,
   "id": "e9759ea2",
   "metadata": {},
   "outputs": [],
   "source": []
  }
 ],
 "metadata": {
  "kernelspec": {
   "display_name": "Python 3 (ipykernel)",
   "language": "python",
   "name": "python3"
  },
  "language_info": {
   "codemirror_mode": {
    "name": "ipython",
    "version": 3
   },
   "file_extension": ".py",
   "mimetype": "text/x-python",
   "name": "python",
   "nbconvert_exporter": "python",
   "pygments_lexer": "ipython3",
   "version": "3.9.12"
  }
 },
 "nbformat": 4,
 "nbformat_minor": 5
}
