{
 "cells": [
  {
   "cell_type": "markdown",
   "id": "7b9baef8",
   "metadata": {},
   "source": [
    "## To print Right Half Diamond Pattern with * symbols"
   ]
  },
  {
   "cell_type": "code",
   "execution_count": 3,
   "id": "c31adef0",
   "metadata": {},
   "outputs": [
    {
     "name": "stdout",
     "output_type": "stream",
     "text": [
      "Enter the number of rows : 5\n",
      "* \n",
      "* * \n",
      "* * * \n",
      "* * * * \n",
      "* * * * * \n",
      "* * * * \n",
      "* * * \n",
      "* * \n",
      "* \n"
     ]
    }
   ],
   "source": [
    "n = int(input('Enter the number of rows : '))\n",
    "\n",
    "for i in range(n):\n",
    "    print('* '*(i+1))\n",
    "for j in range(n-1):\n",
    "    print('* '*(n-1-j))"
   ]
  },
  {
   "cell_type": "markdown",
   "id": "079a2247",
   "metadata": {},
   "source": [
    "***"
   ]
  },
  {
   "cell_type": "markdown",
   "id": "951a82d5",
   "metadata": {},
   "source": [
    "## To print Right Half Diamond Pattern with fixed digit in every row"
   ]
  },
  {
   "cell_type": "code",
   "execution_count": 5,
   "id": "4419c5e0",
   "metadata": {},
   "outputs": [
    {
     "name": "stdout",
     "output_type": "stream",
     "text": [
      "Enter the number of rows : 5\n",
      "1 \n",
      "2 2 \n",
      "3 3 3 \n",
      "4 4 4 4 \n",
      "5 5 5 5 5 \n",
      "4 4 4 4 \n",
      "3 3 3 \n",
      "2 2 \n",
      "1 \n"
     ]
    }
   ],
   "source": [
    "n = int(input('Enter the number of rows : '))\n",
    "\n",
    "for i in range(n):\n",
    "    print((str(i+1)+' ')*(i+1))\n",
    "for j in range(n-1):\n",
    "    print((str(n-1-j)+' ')*(n-1-j))"
   ]
  },
  {
   "cell_type": "markdown",
   "id": "4bfe9b48",
   "metadata": {},
   "source": [
    "***"
   ]
  },
  {
   "cell_type": "markdown",
   "id": "1c468ef5",
   "metadata": {},
   "source": [
    "## To print Right Half Diamond Pattern with fixed alphabet symbol in every row"
   ]
  },
  {
   "cell_type": "code",
   "execution_count": 7,
   "id": "9b23b76e",
   "metadata": {},
   "outputs": [
    {
     "name": "stdout",
     "output_type": "stream",
     "text": [
      "Enter the number of rows : 7\n",
      "A \n",
      "B B \n",
      "C C C \n",
      "D D D D \n",
      "E E E E E \n",
      "F F F F F F \n",
      "G G G G G G G \n",
      "F F F F F F \n",
      "E E E E E \n",
      "D D D D \n",
      "C C C \n",
      "B B \n",
      "A \n"
     ]
    }
   ],
   "source": [
    "n = int(input('Enter the number of rows : '))\n",
    "\n",
    "for i in range(n):\n",
    "    print((chr(65+i)+' ')*(i+1))\n",
    "for j in range(n-1):\n",
    "    print((chr(64+n-(j+1))+' ')*(n-1-j))"
   ]
  },
  {
   "cell_type": "markdown",
   "id": "95f1de1d",
   "metadata": {},
   "source": [
    "***"
   ]
  },
  {
   "cell_type": "markdown",
   "id": "29992e89",
   "metadata": {},
   "source": [
    "## To print Right Half Diamond Pattern with alphabet symbols in dictionary order in every row"
   ]
  },
  {
   "cell_type": "code",
   "execution_count": 9,
   "id": "ef747e1f",
   "metadata": {},
   "outputs": [
    {
     "name": "stdout",
     "output_type": "stream",
     "text": [
      "Enter the number of rows : 5\n",
      "A \n",
      "A B \n",
      "A B C \n",
      "A B C D \n",
      "A B C D E \n",
      "A B C D \n",
      "A B C \n",
      "A B \n",
      "A \n"
     ]
    }
   ],
   "source": [
    "n = int(input('Enter the number of rows : '))\n",
    "\n",
    "for i in range(n):\n",
    "    for j in range(i+1):\n",
    "        print(chr(65+j),end=' ')\n",
    "    print()\n",
    "    \n",
    "for j in range(n-1):\n",
    "    for j in range(n-1-j):\n",
    "        print(chr(65+j),end=' ')\n",
    "    print()"
   ]
  },
  {
   "cell_type": "markdown",
   "id": "ca132422",
   "metadata": {},
   "source": [
    "***"
   ]
  },
  {
   "cell_type": "code",
   "execution_count": 10,
   "id": "8bca1599",
   "metadata": {},
   "outputs": [
    {
     "name": "stdout",
     "output_type": "stream",
     "text": [
      "Enter the number of rows : 5\n",
      "E \n",
      "E D \n",
      "E D C \n",
      "E D C B \n",
      "E D C B A \n",
      "F E D C \n",
      "F E D \n",
      "F E \n",
      "F \n"
     ]
    }
   ],
   "source": [
    "n = int(input('Enter the number of rows : '))\n",
    "\n",
    "for i in range(n):\n",
    "    for j in range(i+1):\n",
    "        print(chr(64+n-j),end=' ')\n",
    "    print()\n",
    "    \n",
    "for j in range(n-1):\n",
    "    for j in range(n-1-j):\n",
    "        print(chr(65+n-j),end=' ')\n",
    "    print()"
   ]
  },
  {
   "cell_type": "markdown",
   "id": "27088e9e",
   "metadata": {},
   "source": [
    "***"
   ]
  },
  {
   "cell_type": "markdown",
   "id": "b980e467",
   "metadata": {},
   "source": [
    "## To print Right Half Diamond Pattern with digits in ascending order in every row"
   ]
  },
  {
   "cell_type": "code",
   "execution_count": 11,
   "id": "7261ff12",
   "metadata": {},
   "outputs": [
    {
     "name": "stdout",
     "output_type": "stream",
     "text": [
      "Enter the number of rows : 5\n",
      "1 \n",
      "1 2 \n",
      "1 2 3 \n",
      "1 2 3 4 \n",
      "1 2 3 4 5 \n",
      "1 2 3 4 \n",
      "1 2 3 \n",
      "1 2 \n",
      "1 \n"
     ]
    }
   ],
   "source": [
    "n = int(input('Enter the number of rows : '))\n",
    "\n",
    "for i in range(n):\n",
    "    for j in range(i+1):\n",
    "        print(str(j+1),end=' ')\n",
    "    print()\n",
    "    \n",
    "for j in range(n-1):\n",
    "    for j in range(n-1-j):\n",
    "        print(str(j+1),end=' ')\n",
    "    print()"
   ]
  },
  {
   "cell_type": "markdown",
   "id": "e657c991",
   "metadata": {},
   "source": [
    "***"
   ]
  },
  {
   "cell_type": "markdown",
   "id": "d8be3f3b",
   "metadata": {},
   "source": [
    "## To print Right Half Diamond Pattern with digits in descending order in every row"
   ]
  },
  {
   "cell_type": "code",
   "execution_count": 12,
   "id": "b51e1a50",
   "metadata": {},
   "outputs": [
    {
     "name": "stdout",
     "output_type": "stream",
     "text": [
      "Enter the number of rows : 5\n",
      "5 \n",
      "5 4 \n",
      "5 4 3 \n",
      "5 4 3 2 \n",
      "5 4 3 2 1 \n",
      "5 4 3 2 \n",
      "5 4 3 \n",
      "5 4 \n",
      "5 \n"
     ]
    }
   ],
   "source": [
    "n = int(input('Enter the number of rows : '))\n",
    "\n",
    "for i in range(n):\n",
    "    for j in range(i+1):\n",
    "        print(str(n-j),end=' ')\n",
    "    print()\n",
    "    \n",
    "for j in range(n-1):\n",
    "    for j in range(n-1-j):\n",
    "        print(str(n-j),end=' ')\n",
    "    print()"
   ]
  },
  {
   "cell_type": "markdown",
   "id": "1fc55b48",
   "metadata": {},
   "source": [
    "***"
   ]
  }
 ],
 "metadata": {
  "kernelspec": {
   "display_name": "Python 3 (ipykernel)",
   "language": "python",
   "name": "python3"
  },
  "language_info": {
   "codemirror_mode": {
    "name": "ipython",
    "version": 3
   },
   "file_extension": ".py",
   "mimetype": "text/x-python",
   "name": "python",
   "nbconvert_exporter": "python",
   "pygments_lexer": "ipython3",
   "version": "3.9.12"
  }
 },
 "nbformat": 4,
 "nbformat_minor": 5
}
