{
 "cells": [
  {
   "cell_type": "code",
   "execution_count": 7,
   "id": "dc968ebd",
   "metadata": {},
   "outputs": [],
   "source": [
    "def print_row(*col):\n",
    "    for i in range(5):\n",
    "        if i in col:\n",
    "            print(\"*\" , end = \" \")\n",
    "        else:\n",
    "            print(' ' , end = ' ')\n",
    "    print()"
   ]
  },
  {
   "cell_type": "code",
   "execution_count": 8,
   "id": "ed0e9cdf",
   "metadata": {},
   "outputs": [],
   "source": [
    "def A():\n",
    "    print_row(1,2,3)\n",
    "    print_row(0,4)\n",
    "    print_row(0,4)\n",
    "    print_row(0,1,2,3,4)\n",
    "    for _ in range(3):\n",
    "        print_row(0,4)"
   ]
  },
  {
   "cell_type": "code",
   "execution_count": 9,
   "id": "757335fd",
   "metadata": {},
   "outputs": [
    {
     "name": "stdout",
     "output_type": "stream",
     "text": [
      "  * * *   \n",
      "*       * \n",
      "*       * \n",
      "* * * * * \n",
      "*       * \n",
      "*       * \n",
      "*       * \n"
     ]
    }
   ],
   "source": [
    "A()"
   ]
  },
  {
   "cell_type": "code",
   "execution_count": 11,
   "id": "a22e440f",
   "metadata": {},
   "outputs": [],
   "source": [
    "def B():\n",
    "    print_row(0,1,2,3)\n",
    "    print_row(0,4)\n",
    "    print_row(0,4)\n",
    "    print_row(0,1,2,3)\n",
    "    print_row(0,4)\n",
    "    print_row(0,4)\n",
    "    print_row(0,1,2,3)"
   ]
  },
  {
   "cell_type": "code",
   "execution_count": 12,
   "id": "122a610d",
   "metadata": {},
   "outputs": [
    {
     "name": "stdout",
     "output_type": "stream",
     "text": [
      "* * * *   \n",
      "*       * \n",
      "*       * \n",
      "* * * *   \n",
      "*       * \n",
      "*       * \n",
      "* * * *   \n"
     ]
    }
   ],
   "source": [
    "B()"
   ]
  },
  {
   "cell_type": "code",
   "execution_count": 13,
   "id": "b7c79b6a",
   "metadata": {},
   "outputs": [],
   "source": [
    "def C():\n",
    "    print_row(1,2,3) \n",
    "    print_row(0,4)\n",
    "    print_row(0)\n",
    "    print_row(0)\n",
    "    print_row(0)\n",
    "    print_row(0,4)\n",
    "    print_row(1,2,3)"
   ]
  },
  {
   "cell_type": "code",
   "execution_count": 14,
   "id": "3cd7b711",
   "metadata": {},
   "outputs": [
    {
     "name": "stdout",
     "output_type": "stream",
     "text": [
      "  * * *   \n",
      "*       * \n",
      "*         \n",
      "*         \n",
      "*         \n",
      "*       * \n",
      "  * * *   \n"
     ]
    }
   ],
   "source": [
    "C()"
   ]
  },
  {
   "cell_type": "code",
   "execution_count": 15,
   "id": "18767469",
   "metadata": {},
   "outputs": [],
   "source": [
    "def D():\n",
    "    print_row(0,1,2,3)\n",
    "    for i in range(5):\n",
    "        print_row(0,4)\n",
    "    print_row(0,1,2,3)"
   ]
  },
  {
   "cell_type": "code",
   "execution_count": 16,
   "id": "97c9457a",
   "metadata": {},
   "outputs": [
    {
     "name": "stdout",
     "output_type": "stream",
     "text": [
      "* * * *   \n",
      "*       * \n",
      "*       * \n",
      "*       * \n",
      "*       * \n",
      "*       * \n",
      "* * * *   \n"
     ]
    }
   ],
   "source": [
    "D()"
   ]
  },
  {
   "cell_type": "code",
   "execution_count": 17,
   "id": "2b5f0c88",
   "metadata": {},
   "outputs": [],
   "source": [
    "def E():\n",
    "    print_row(0,1,2,3,4)\n",
    "    print_row(0)\n",
    "    print_row(0)\n",
    "    print_row(0,1,2,3,4)\n",
    "    print_row(0)\n",
    "    print_row(0)\n",
    "    print_row(0,1,2,3,4)\n",
    "\n",
    "def F():\n",
    "    print_row(0,1,2,3,4)\n",
    "    print_row(0)\n",
    "    print_row(0)\n",
    "    print_row(0,1,2,3,4)\n",
    "    for i in range(3):\n",
    "        print_row(0)\n",
    "\n",
    "def G():\n",
    "    print_row(1,2,3)\n",
    "    print_row(0,4)\n",
    "    print_row(0)\n",
    "    print_row(0,2,3,4)\n",
    "    print_row(0,4)\n",
    "    print_row(0,4)\n",
    "    print_row(1,2,3)\n",
    "\n",
    "def H():\n",
    "    for i in range(3):\n",
    "        print_row(0,4)\n",
    "    print_row(0,1,2,3,4)\n",
    "    for i in range(3):\n",
    "        print_row(0,4)\n",
    "def I():\n",
    "    print_row(0,1,2,3,4)\n",
    "    for i in range(5):\n",
    "        print_row(2)\n",
    "    print_row(0,1,2,3,4)\n",
    "\n",
    "def J():\n",
    "    print_row(0,1,2,3,4)\n",
    "    for i in range(4):\n",
    "        print_row(2)\n",
    "    print_row(0,2)\n",
    "    print_row(1)\n",
    "\n",
    "def K():\n",
    "    print_row(0,4)\n",
    "    print_row(0,3)\n",
    "    print_row(0,2)\n",
    "    print_row(0,1)\n",
    "    print_row(0,2)\n",
    "    print_row(0,3)\n",
    "    print_row(0,4)\n",
    "\n",
    "def L():\n",
    "    for i in range(6):\n",
    "        print_row(0)\n",
    "    print_row(0,1,2,3,4)\n",
    "\n",
    "def M():\n",
    "    print_row(0,4)\n",
    "    print_row(0,1,3,4)\n",
    "    print_row(0,2,4)\n",
    "    for i in range(4):\n",
    "        print_row(0,4)\n",
    "def N():\n",
    "    print_row(0,4)\n",
    "    print_row(0,4)\n",
    "    print_row(0,1,4)\n",
    "    print_row(0,2,4)\n",
    "    print_row(0,3,4)\n",
    "    print_row(0,4)\n",
    "    print_row(0,4)\n",
    "\n",
    "def O():\n",
    "    print_row(1,2,3)\n",
    "    for i in range(5):\n",
    "        print_row(0,4)\n",
    "    print_row(1,2,3)\n",
    "\n",
    "def P():\n",
    "    print_row(0,1,2,3)\n",
    "    print_row(0,4)\n",
    "    print_row(0,4)\n",
    "    print_row(0,1,2,3)\n",
    "    for i in range(3):\n",
    "        print_row(0)\n",
    "        \n",
    "def Q():\n",
    "    print_row(1,2,3)\n",
    "    for i in range(3):\n",
    "        print_row(0,4)\n",
    "    print_row(0,2,4)\n",
    "    print_row(0,3,4)\n",
    "    print_row(1,2,3,4)\n",
    "\n",
    "def R():\n",
    "    print_row(0,1,2,3)\n",
    "    print_row(0,4)\n",
    "    print_row(0,4)\n",
    "    print_row(0,1,2,3)\n",
    "    print_row(0,2)\n",
    "    print_row(0,3)\n",
    "    print_row(0,4)\n",
    "\n",
    "def S():\n",
    "    print_row(1,2,3)\n",
    "    print_row(0,4)\n",
    "    print_row(0)\n",
    "    print_row(1,2,3)\n",
    "    print_row(4)\n",
    "    print_row(0,4)\n",
    "    print_row(1,2,3)    \n",
    "\n",
    "def T():\n",
    "    print_row(0,1,2,3,4)\n",
    "    for i in range(7):\n",
    "        print_row(2)\n",
    "\n",
    "def U():\n",
    "    for i in range(6):\n",
    "        print_row(0,4)\n",
    "    print_row(1,2,3)\n",
    "\n",
    "def V():\n",
    "    for i in range(5):\n",
    "        print_row(0,4)\n",
    "    print_row(1,3)\n",
    "    print_row(2)\n",
    "\n",
    "def W():\n",
    "    for i in range(4):\n",
    "        print_row(0,4)\n",
    "    print_row(0,2,4)\n",
    "    print_row(0,1,3,4)\n",
    "    print_row(0,4)\n",
    "\n",
    "def X():\n",
    "    print_row(0,4)\n",
    "    print_row(0,4)\n",
    "    print_row(1,3)\n",
    "    print_row(2)\n",
    "    print_row(1,3)\n",
    "    print_row(0,4)\n",
    "    print_row(0,4)\n",
    "\n",
    "def Y():\n",
    "    print_row(0,4)\n",
    "    print_row(0,4)\n",
    "    print_row(1,2,3)\n",
    "    for i in range(4):\n",
    "        print_row(2)\n",
    "\n",
    "def Z():\n",
    "    print_row(0,1,2,3,4)\n",
    "    print_row(4)\n",
    "    print_row(3)\n",
    "    print_row(2)\n",
    "    print_row(1)\n",
    "    print_row(0)\n",
    "    print_row(0,1,2,3,4)"
   ]
  },
  {
   "cell_type": "code",
   "execution_count": 27,
   "id": "d40c2e7b",
   "metadata": {},
   "outputs": [],
   "source": [
    "def hash_():\n",
    "    for row in range(7):\n",
    "        for col in range(7):\n",
    "            if row in {2,4}:\n",
    "                print(\"*\" , end=\" \")\n",
    "            elif col in {2,4}:\n",
    "                print(\"*\" , end=\" \")\n",
    "            else:\n",
    "                print(' ',end=' ')\n",
    "        print()"
   ]
  },
  {
   "cell_type": "code",
   "execution_count": 28,
   "id": "9e980722",
   "metadata": {},
   "outputs": [
    {
     "name": "stdout",
     "output_type": "stream",
     "text": [
      "    *   *     \n",
      "    *   *     \n",
      "* * * * * * * \n",
      "    *   *     \n",
      "* * * * * * * \n",
      "    *   *     \n",
      "    *   *     \n"
     ]
    }
   ],
   "source": [
    "hash_()"
   ]
  },
  {
   "cell_type": "code",
   "execution_count": 31,
   "id": "c997f252",
   "metadata": {},
   "outputs": [],
   "source": [
    "def nine():\n",
    "    print_row(1,2,3)\n",
    "    print_row(0,4)\n",
    "    print_row(0,4)\n",
    "    print_row(1,2,3,4)\n",
    "    print_row(4)\n",
    "    print_row(3)\n",
    "    print_row(1,2)"
   ]
  },
  {
   "cell_type": "code",
   "execution_count": 32,
   "id": "1bbba40a",
   "metadata": {},
   "outputs": [
    {
     "name": "stdout",
     "output_type": "stream",
     "text": [
      "  * * *   \n",
      "*       * \n",
      "*       * \n",
      "  * * * * \n",
      "        * \n",
      "      *   \n",
      "  * *     \n"
     ]
    }
   ],
   "source": [
    "nine()"
   ]
  },
  {
   "cell_type": "markdown",
   "id": "893139ec",
   "metadata": {},
   "source": [
    "***"
   ]
  },
  {
   "cell_type": "markdown",
   "id": "c4620a17",
   "metadata": {},
   "source": [
    "***"
   ]
  },
  {
   "cell_type": "code",
   "execution_count": 22,
   "id": "e8ba34a0",
   "metadata": {},
   "outputs": [
    {
     "name": "stdout",
     "output_type": "stream",
     "text": [
      "Enter a Character : S\n",
      "\n",
      "  * * *   \n",
      "*       * \n",
      "*         \n",
      "  * * *   \n",
      "        * \n",
      "*       * \n",
      "  * * *   \n"
     ]
    }
   ],
   "source": [
    "ch = input(\"Enter a Character : \").upper()\n",
    "print()\n",
    "exec(ch+\"()\")   # eval(ch+\"()\")"
   ]
  },
  {
   "cell_type": "code",
   "execution_count": 26,
   "id": "fbb78492",
   "metadata": {},
   "outputs": [
    {
     "name": "stdout",
     "output_type": "stream",
     "text": [
      "Enter any word : Python\n",
      "\n",
      "* * * *   \n",
      "*       * \n",
      "*       * \n",
      "* * * *   \n",
      "*         \n",
      "*         \n",
      "*         \n",
      "\n",
      "*       * \n",
      "*       * \n",
      "  * * *   \n",
      "    *     \n",
      "    *     \n",
      "    *     \n",
      "    *     \n",
      "\n",
      "* * * * * \n",
      "    *     \n",
      "    *     \n",
      "    *     \n",
      "    *     \n",
      "    *     \n",
      "    *     \n",
      "    *     \n",
      "\n",
      "*       * \n",
      "*       * \n",
      "*       * \n",
      "* * * * * \n",
      "*       * \n",
      "*       * \n",
      "*       * \n",
      "\n",
      "  * * *   \n",
      "*       * \n",
      "*       * \n",
      "*       * \n",
      "*       * \n",
      "*       * \n",
      "  * * *   \n",
      "\n",
      "*       * \n",
      "*       * \n",
      "* *     * \n",
      "*   *   * \n",
      "*     * * \n",
      "*       * \n",
      "*       * \n",
      "\n"
     ]
    }
   ],
   "source": [
    "word = input(\"Enter any word : \").upper()\n",
    "print()\n",
    "for char in word:\n",
    "    exec(char+\"()\")\n",
    "    print()"
   ]
  },
  {
   "cell_type": "code",
   "execution_count": 36,
   "id": "0cca3adc",
   "metadata": {},
   "outputs": [
    {
     "name": "stdout",
     "output_type": "stream",
     "text": [
      "Enter any word : #we9\n",
      "\n",
      "    *   *     \n",
      "    *   *     \n",
      "* * * * * * * \n",
      "    *   *     \n",
      "* * * * * * * \n",
      "    *   *     \n",
      "    *   *     \n",
      "\n",
      "*       * \n",
      "*       * \n",
      "*       * \n",
      "*       * \n",
      "*   *   * \n",
      "* *   * * \n",
      "*       * \n",
      "\n",
      "* * * * * \n",
      "*         \n",
      "*         \n",
      "* * * * * \n",
      "*         \n",
      "*         \n",
      "* * * * * \n",
      "\n",
      "  * * *   \n",
      "*       * \n",
      "*       * \n",
      "  * * * * \n",
      "        * \n",
      "      *   \n",
      "  * *     \n",
      "\n"
     ]
    }
   ],
   "source": [
    "word = input(\"Enter any word : \").upper()\n",
    "print()\n",
    "for char in word:\n",
    "    if char == '#':\n",
    "        exec('hash_()')\n",
    "        print()\n",
    "    elif char == '9':\n",
    "        exec('nine()')\n",
    "        print()\n",
    "    else:\n",
    "        exec(char+\"()\")\n",
    "        print()"
   ]
  },
  {
   "cell_type": "code",
   "execution_count": null,
   "id": "134398b5",
   "metadata": {},
   "outputs": [],
   "source": []
  }
 ],
 "metadata": {
  "kernelspec": {
   "display_name": "Python 3 (ipykernel)",
   "language": "python",
   "name": "python3"
  },
  "language_info": {
   "codemirror_mode": {
    "name": "ipython",
    "version": 3
   },
   "file_extension": ".py",
   "mimetype": "text/x-python",
   "name": "python",
   "nbconvert_exporter": "python",
   "pygments_lexer": "ipython3",
   "version": "3.10.8"
  }
 },
 "nbformat": 4,
 "nbformat_minor": 5
}
