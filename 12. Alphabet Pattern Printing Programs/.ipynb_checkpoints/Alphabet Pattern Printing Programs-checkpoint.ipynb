{
 "cells": [
  {
   "cell_type": "code",
   "execution_count": 2,
   "id": "6483e35b",
   "metadata": {},
   "outputs": [
    {
     "name": "stdout",
     "output_type": "stream",
     "text": [
      "* * * * * \n",
      "*       * \n",
      "*       * \n",
      "*       * \n",
      "*       * \n",
      "*       * \n",
      "* * * * * \n"
     ]
    }
   ],
   "source": [
    "for i in range(7):\n",
    "    for j in range(5):\n",
    "        if j==0 or j==4 or i==0 or i==6:\n",
    "            print('*',end=\" \")\n",
    "        else:\n",
    "            print(' ',end=' ')\n",
    "    print()"
   ]
  },
  {
   "cell_type": "code",
   "execution_count": 4,
   "id": "9e519af5",
   "metadata": {},
   "outputs": [
    {
     "name": "stdout",
     "output_type": "stream",
     "text": [
      "* * * * * \n",
      "*       * \n",
      "*       * \n",
      "*       * \n",
      "*       * \n",
      "*       * \n",
      "* * * * * \n"
     ]
    }
   ],
   "source": [
    "for row in range(7):\n",
    "    for col in range(5):\n",
    "        if row ==0 or row == 6:\n",
    "            print('*' , end=' ')\n",
    "        elif (row in {1,2,3,4,5}) and (col in {0,4}):\n",
    "            print('*' , end=' ')\n",
    "        else:\n",
    "            print(' ' , end=' ')\n",
    "    print()"
   ]
  },
  {
   "cell_type": "markdown",
   "id": "61c1cb5f",
   "metadata": {},
   "source": [
    "***"
   ]
  },
  {
   "cell_type": "markdown",
   "id": "eb5b3b2c",
   "metadata": {},
   "source": [
    "## To print alphabet Symbol 'A' "
   ]
  },
  {
   "cell_type": "code",
   "execution_count": 10,
   "id": "be6dcf84",
   "metadata": {},
   "outputs": [
    {
     "name": "stdout",
     "output_type": "stream",
     "text": [
      "  * * *   \n",
      "*       * \n",
      "*       * \n",
      "* * * * * \n",
      "*       * \n",
      "*       * \n",
      "*       * \n"
     ]
    }
   ],
   "source": [
    "for row in range(7):\n",
    "    for col in range(5):\n",
    "        if row == 0 and col in {1,2,3}:\n",
    "            print('*' , end=' ')\n",
    "        elif row in {1,2,4,5,6} and col in {0,4}:\n",
    "            print('*' , end=' ')\n",
    "        elif row==3:\n",
    "            print('*' , end=' ')\n",
    "        else:\n",
    "            print(' ' , end=' ')\n",
    "    print()"
   ]
  },
  {
   "cell_type": "markdown",
   "id": "a8b09466",
   "metadata": {},
   "source": [
    "***"
   ]
  },
  {
   "cell_type": "markdown",
   "id": "3c8fcc69",
   "metadata": {},
   "source": [
    "## To print alphabet Symbol 'B' "
   ]
  },
  {
   "cell_type": "code",
   "execution_count": 8,
   "id": "148bd185",
   "metadata": {},
   "outputs": [
    {
     "name": "stdout",
     "output_type": "stream",
     "text": [
      "* * * *   \n",
      "*       * \n",
      "*       * \n",
      "* * * *   \n",
      "*       * \n",
      "*       * \n",
      "* * * *   \n"
     ]
    }
   ],
   "source": [
    "for row in range(7):\n",
    "    for col in range(5):\n",
    "        if row in {0,3,6} and col in {0,1,2,3}:\n",
    "            print(\"*\" , end=\" \")\n",
    "        elif row in {1,2,4,5} and col in {0,4}:\n",
    "            print(\"*\" , end=\" \")\n",
    "        else:\n",
    "            print(' ',end=' ')\n",
    "    print()"
   ]
  },
  {
   "cell_type": "markdown",
   "id": "1d847f56",
   "metadata": {},
   "source": [
    "## To print alphabet Symbol 'C' "
   ]
  },
  {
   "cell_type": "code",
   "execution_count": 19,
   "id": "b1957cc1",
   "metadata": {},
   "outputs": [
    {
     "name": "stdout",
     "output_type": "stream",
     "text": [
      "  * * *   \n",
      "*       * \n",
      "*         \n",
      "*         \n",
      "*         \n",
      "*       * \n",
      "  * * *   \n"
     ]
    }
   ],
   "source": [
    "for row in range(7):\n",
    "    for col in range(5):\n",
    "        if row in {0,6} and col in {1,2,3}:\n",
    "            print(\"*\" , end=\" \")\n",
    "        elif row in {1,5} and col in {0,4}:\n",
    "            print(\"*\" , end=\" \")\n",
    "        elif row in {2,3,4} and col==0:\n",
    "            print(\"*\" , end=\" \")\n",
    "        else:\n",
    "            print(' ',end=' ')\n",
    "    print()"
   ]
  },
  {
   "cell_type": "markdown",
   "id": "d883b5bd",
   "metadata": {},
   "source": [
    "## To print alphabet Symbol 'D'"
   ]
  },
  {
   "cell_type": "code",
   "execution_count": 20,
   "id": "855dfb49",
   "metadata": {},
   "outputs": [
    {
     "name": "stdout",
     "output_type": "stream",
     "text": [
      "* * * *   \n",
      "*       * \n",
      "*       * \n",
      "*       * \n",
      "*       * \n",
      "*       * \n",
      "* * * *   \n"
     ]
    }
   ],
   "source": [
    "for row in range(7):\n",
    "    for col in range(5):\n",
    "        if row in {0,6} and col in {0,1,2,3}:\n",
    "            print(\"*\" , end=\" \")\n",
    "        elif row in {1,2,3,4,5} and col in {0,4}:\n",
    "            print(\"*\" , end=\" \")\n",
    "        else:\n",
    "            print(' ',end=' ')\n",
    "    print()"
   ]
  },
  {
   "cell_type": "code",
   "execution_count": 22,
   "id": "9c08c5a3",
   "metadata": {},
   "outputs": [
    {
     "name": "stdout",
     "output_type": "stream",
     "text": [
      "* * * *   \n",
      "*       * \n",
      "*       * \n",
      "*       * \n",
      "*       * \n",
      "*       * \n",
      "* * * *   \n"
     ]
    }
   ],
   "source": [
    "for row in range(7):\n",
    "    for col in range(5):\n",
    "        if row in {0,6} and col != 4:\n",
    "            print(\"*\" , end=\" \")\n",
    "        elif row in range(1,6) and col in {0,4}:\n",
    "            print(\"*\" , end=\" \")\n",
    "        else:\n",
    "            print(' ',end=' ')\n",
    "    print()"
   ]
  },
  {
   "cell_type": "markdown",
   "id": "f8eb79ec",
   "metadata": {},
   "source": [
    "***"
   ]
  },
  {
   "cell_type": "markdown",
   "id": "ed578d5b",
   "metadata": {},
   "source": [
    "## To print alphabet Symbol 'E' "
   ]
  },
  {
   "cell_type": "code",
   "execution_count": 23,
   "id": "01356f7b",
   "metadata": {},
   "outputs": [
    {
     "name": "stdout",
     "output_type": "stream",
     "text": [
      "* * * * * \n",
      "*         \n",
      "*         \n",
      "* * * * * \n",
      "*         \n",
      "*         \n",
      "* * * * * \n"
     ]
    }
   ],
   "source": [
    "for row in range(7):\n",
    "    for col in range(5):\n",
    "        if row in {0,3,6}:\n",
    "            print(\"*\" , end=\" \")\n",
    "        elif row in {1,2,4,5} and col == 0:\n",
    "            print(\"*\" , end=\" \")\n",
    "        else:\n",
    "            print(' ',end=' ')\n",
    "    print()"
   ]
  },
  {
   "cell_type": "code",
   "execution_count": 24,
   "id": "4554f322",
   "metadata": {},
   "outputs": [
    {
     "name": "stdout",
     "output_type": "stream",
     "text": [
      "* * * * * \n",
      "*         \n",
      "*         \n",
      "* * * * * \n",
      "*         \n",
      "*         \n",
      "* * * * * \n"
     ]
    }
   ],
   "source": [
    "for row in range(7):\n",
    "    for col in range(5):\n",
    "        if row%3 == 0:\n",
    "            print(\"*\" , end=\" \")\n",
    "        elif row%3 != 0 and col == 0:\n",
    "            print(\"*\" , end=\" \")\n",
    "        else:\n",
    "            print(' ',end=' ')\n",
    "    print()"
   ]
  },
  {
   "cell_type": "markdown",
   "id": "3dc9700d",
   "metadata": {},
   "source": [
    "***"
   ]
  },
  {
   "cell_type": "markdown",
   "id": "3ae93a41",
   "metadata": {},
   "source": [
    "## To print alphabet Symbol 'F'"
   ]
  },
  {
   "cell_type": "code",
   "execution_count": 27,
   "id": "8a092a3d",
   "metadata": {},
   "outputs": [
    {
     "name": "stdout",
     "output_type": "stream",
     "text": [
      "* * * * * \n",
      "*         \n",
      "*         \n",
      "* * * * * \n",
      "*         \n",
      "*         \n",
      "*         \n"
     ]
    }
   ],
   "source": [
    "for row in range(7):\n",
    "    for col in range(5):\n",
    "        if row in {0,3}:\n",
    "            print(\"*\" , end=\" \")\n",
    "        elif row in {1,2,4,5,6} and col == 0:\n",
    "            print(\"*\" , end=\" \")\n",
    "        else:\n",
    "            print(' ',end=' ')\n",
    "    print()"
   ]
  },
  {
   "cell_type": "code",
   "execution_count": 28,
   "id": "f61deaea",
   "metadata": {},
   "outputs": [
    {
     "name": "stdout",
     "output_type": "stream",
     "text": [
      "* * * * * \n",
      "*         \n",
      "*         \n",
      "* * * * * \n",
      "*         \n",
      "*         \n",
      "*         \n"
     ]
    }
   ],
   "source": [
    "for row in range(7):\n",
    "    for col in range(5):\n",
    "        if row in {0,3}:\n",
    "            print(\"*\" , end=\" \")\n",
    "        elif row not in {0,3} and col == 0:\n",
    "            print(\"*\" , end=\" \")\n",
    "        else:\n",
    "            print(' ',end=' ')\n",
    "    print()"
   ]
  },
  {
   "cell_type": "markdown",
   "id": "14bbc916",
   "metadata": {},
   "source": [
    "***"
   ]
  },
  {
   "cell_type": "markdown",
   "id": "f048ac44",
   "metadata": {},
   "source": [
    "## To print alphabet Symbol 'G' "
   ]
  },
  {
   "cell_type": "code",
   "execution_count": 36,
   "id": "7fb06a43",
   "metadata": {},
   "outputs": [
    {
     "name": "stdout",
     "output_type": "stream",
     "text": [
      "  * * *   \n",
      "*       * \n",
      "*         \n",
      "*   * * * \n",
      "*       * \n",
      "*       * \n",
      "  * * *   \n"
     ]
    }
   ],
   "source": [
    "for row in range(7):\n",
    "    for col in range(5):\n",
    "        if row in {0,6} and col in {1,2,3}:\n",
    "            print(\"*\" , end=\" \")\n",
    "        elif row in {1,4,5} and col in {0,4}:\n",
    "            print(\"*\" , end=\" \")\n",
    "        elif row == 2 and col == 0:\n",
    "            print(\"*\" , end=\" \")\n",
    "        elif row == 3 and col != 1:\n",
    "            print(\"*\" , end=\" \")\n",
    "        else:\n",
    "            print(' ',end=' ')\n",
    "    print()"
   ]
  },
  {
   "cell_type": "markdown",
   "id": "56542af2",
   "metadata": {},
   "source": [
    "***"
   ]
  },
  {
   "cell_type": "markdown",
   "id": "545bc91d",
   "metadata": {},
   "source": [
    "## To print alphabet Symbol 'H'"
   ]
  },
  {
   "cell_type": "code",
   "execution_count": 39,
   "id": "a3b5b042",
   "metadata": {},
   "outputs": [
    {
     "name": "stdout",
     "output_type": "stream",
     "text": [
      "*       * \n",
      "*       * \n",
      "*       * \n",
      "* * * * * \n",
      "*       * \n",
      "*       * \n",
      "*       * \n"
     ]
    }
   ],
   "source": [
    "for row in range(7):\n",
    "    for col in range(5):\n",
    "        if row ==3 :\n",
    "            print(\"*\" , end=\" \")\n",
    "        elif row != 3 and col in {0,4}:\n",
    "            print(\"*\" , end=\" \")\n",
    "        else:\n",
    "            print(' ',end=' ')\n",
    "    print()"
   ]
  },
  {
   "cell_type": "markdown",
   "id": "9d3f8d61",
   "metadata": {},
   "source": [
    "***"
   ]
  },
  {
   "cell_type": "markdown",
   "id": "b6833e9d",
   "metadata": {},
   "source": [
    "## To print alphabet Symbol 'I'"
   ]
  },
  {
   "cell_type": "code",
   "execution_count": 41,
   "id": "48edcb7d",
   "metadata": {},
   "outputs": [
    {
     "name": "stdout",
     "output_type": "stream",
     "text": [
      "* * * * * \n",
      "    *     \n",
      "    *     \n",
      "    *     \n",
      "    *     \n",
      "    *     \n",
      "* * * * * \n"
     ]
    }
   ],
   "source": [
    "for row in range(7):\n",
    "    for col in range(5):\n",
    "        if row in {0,6} :\n",
    "            print(\"*\" , end=\" \")\n",
    "        elif row not in {0,6} and col == 2:\n",
    "            print(\"*\" , end=\" \")\n",
    "        else:\n",
    "            print(' ',end=' ')\n",
    "    print()"
   ]
  },
  {
   "cell_type": "markdown",
   "id": "b4c89d79",
   "metadata": {},
   "source": [
    "***"
   ]
  },
  {
   "cell_type": "markdown",
   "id": "a469547a",
   "metadata": {},
   "source": [
    "## To print alphabet Symbol 'J'"
   ]
  },
  {
   "cell_type": "code",
   "execution_count": 45,
   "id": "cfebd997",
   "metadata": {},
   "outputs": [
    {
     "name": "stdout",
     "output_type": "stream",
     "text": [
      "* * * * * \n",
      "    *     \n",
      "    *     \n",
      "    *     \n",
      "    *     \n",
      "*   *     \n",
      "  *       \n"
     ]
    }
   ],
   "source": [
    "for row in range(7):\n",
    "    for col in range(5):\n",
    "        if row ==0 :\n",
    "            print(\"*\" , end=\" \")\n",
    "        elif row in {1,2,3,4} and col == 2:\n",
    "            print(\"*\" , end=\" \")\n",
    "        elif row == 5 and col in {0,2}:\n",
    "            print(\"*\" , end=\" \")\n",
    "        elif row == 6 and col == 1:\n",
    "            print(\"*\" , end=\" \")\n",
    "        else:\n",
    "            print(' ',end=' ')\n",
    "    print()"
   ]
  },
  {
   "cell_type": "markdown",
   "id": "c1770cf4",
   "metadata": {},
   "source": [
    "***"
   ]
  },
  {
   "cell_type": "markdown",
   "id": "fee6425c",
   "metadata": {},
   "source": [
    "## To print alphabet Symbol 'K'"
   ]
  },
  {
   "cell_type": "code",
   "execution_count": 47,
   "id": "cdfc3668",
   "metadata": {},
   "outputs": [
    {
     "name": "stdout",
     "output_type": "stream",
     "text": [
      "*       * \n",
      "*     *   \n",
      "*   *     \n",
      "* *       \n",
      "*   *     \n",
      "*     *   \n",
      "*       * \n"
     ]
    }
   ],
   "source": [
    "for row in range(7):\n",
    "    for col in range(5):\n",
    "        if row in {0,6} and col in {0,4}:\n",
    "            print(\"*\" , end=\" \")\n",
    "        elif row in {1,5} and col in {0,3}:\n",
    "            print(\"*\" , end=\" \")\n",
    "        elif row in {2,4} and col in {0,2}:\n",
    "            print(\"*\" , end=\" \")\n",
    "        elif row == 3 and col in {0,1}:\n",
    "            print(\"*\" , end=\" \")\n",
    "        else:\n",
    "            print(' ',end=' ')\n",
    "    print()"
   ]
  },
  {
   "cell_type": "markdown",
   "id": "23102dd9",
   "metadata": {},
   "source": [
    "***"
   ]
  },
  {
   "cell_type": "markdown",
   "id": "35532ae3",
   "metadata": {},
   "source": [
    "## To print alphabet Symbol 'L' "
   ]
  },
  {
   "cell_type": "code",
   "execution_count": 49,
   "id": "c8fda023",
   "metadata": {},
   "outputs": [
    {
     "name": "stdout",
     "output_type": "stream",
     "text": [
      "*         \n",
      "*         \n",
      "*         \n",
      "*         \n",
      "*         \n",
      "*         \n",
      "* * * * * \n"
     ]
    }
   ],
   "source": [
    "for row in range(7):\n",
    "    for col in range(5):\n",
    "        if row != 6 and col == 0:\n",
    "            print(\"*\" , end=\" \")\n",
    "        elif row == 6:\n",
    "            print(\"*\" , end=\" \")\n",
    "        else:\n",
    "            print(' ',end=' ')\n",
    "    print()"
   ]
  },
  {
   "cell_type": "markdown",
   "id": "05042a0e",
   "metadata": {},
   "source": [
    "***"
   ]
  },
  {
   "cell_type": "markdown",
   "id": "4065e4cf",
   "metadata": {},
   "source": [
    "## To print alphabet Symbol 'M'"
   ]
  },
  {
   "cell_type": "code",
   "execution_count": 52,
   "id": "baf7d538",
   "metadata": {},
   "outputs": [
    {
     "name": "stdout",
     "output_type": "stream",
     "text": [
      "*       * \n",
      "* *   * * \n",
      "*   *   * \n",
      "*       * \n",
      "*       * \n",
      "*       * \n",
      "*       * \n"
     ]
    }
   ],
   "source": [
    "for row in range(7):\n",
    "    for col in range(5):\n",
    "        if row not in {1,2} and col in {0,4}:\n",
    "            print(\"*\" , end=\" \")\n",
    "        elif row == 1 and col !=2:\n",
    "            print(\"*\" , end=\" \")\n",
    "        elif row == 2 and col not in {1,3}:\n",
    "            print(\"*\" , end=\" \")\n",
    "        else:\n",
    "            print(' ',end=' ')\n",
    "    print()"
   ]
  },
  {
   "cell_type": "markdown",
   "id": "d01cdce6",
   "metadata": {},
   "source": [
    "***"
   ]
  },
  {
   "cell_type": "markdown",
   "id": "cb1e2bf5",
   "metadata": {},
   "source": [
    "## To print alphabet Symbol 'N'"
   ]
  },
  {
   "cell_type": "code",
   "execution_count": 56,
   "id": "ab78160a",
   "metadata": {},
   "outputs": [
    {
     "name": "stdout",
     "output_type": "stream",
     "text": [
      "*       * \n",
      "*       * \n",
      "* *     * \n",
      "*   *   * \n",
      "*     * * \n",
      "*       * \n",
      "*       * \n"
     ]
    }
   ],
   "source": [
    "for row in range(7):\n",
    "    for col in range(5):\n",
    "        if row in {0,1,5,6} and col in {0,4}:\n",
    "            print(\"*\" , end=\" \")\n",
    "        elif row == 2 and col in {0,1,4}:\n",
    "            print(\"*\" , end=\" \")\n",
    "        elif row == 3 and col in {0,2,4}:\n",
    "            print(\"*\" , end=\" \")\n",
    "        elif row == 4 and col in {0,3,4}:\n",
    "            print(\"*\" , end=\" \")\n",
    "        else:\n",
    "            print(' ',end=' ')\n",
    "    print()"
   ]
  },
  {
   "cell_type": "markdown",
   "id": "c7a70d7b",
   "metadata": {},
   "source": [
    "***"
   ]
  },
  {
   "cell_type": "markdown",
   "id": "c04121ee",
   "metadata": {},
   "source": [
    "## To print alphabet Symbol 'N' In Square Style \n",
    "#### Row = 6\n",
    "#### Col = 6"
   ]
  },
  {
   "cell_type": "code",
   "execution_count": 62,
   "id": "180f17ab",
   "metadata": {},
   "outputs": [
    {
     "name": "stdout",
     "output_type": "stream",
     "text": [
      "*         * \n",
      "* *       * \n",
      "*   *     * \n",
      "*     *   * \n",
      "*       * * \n",
      "*         * \n"
     ]
    }
   ],
   "source": [
    "for row in range(6):\n",
    "    for col in range(6):\n",
    "        if row in {0,5} and col in {0,5}:\n",
    "            print(\"*\" , end=\" \")\n",
    "        elif row == 1 and col in {0,1,5}:\n",
    "            print(\"*\" , end=\" \")\n",
    "        elif row == 2 and col in {0,2,5}:\n",
    "            print(\"*\" , end=\" \")\n",
    "        elif row == 3 and col in {0,3,5}:\n",
    "            print(\"*\" , end=\" \")\n",
    "        elif row == 4 and col in {0,4,5}:\n",
    "            print(\"*\" , end=\" \")\n",
    "        else:\n",
    "            print(' ',end=' ')\n",
    "    print()"
   ]
  },
  {
   "cell_type": "markdown",
   "id": "c8c75a5c",
   "metadata": {},
   "source": [
    "***"
   ]
  },
  {
   "cell_type": "markdown",
   "id": "6b9a5510",
   "metadata": {},
   "source": [
    "## To print alphabet Symbol 'O'"
   ]
  },
  {
   "cell_type": "code",
   "execution_count": 66,
   "id": "2af8d7e5",
   "metadata": {},
   "outputs": [
    {
     "name": "stdout",
     "output_type": "stream",
     "text": [
      "  * * *   \n",
      "*       * \n",
      "*       * \n",
      "*       * \n",
      "*       * \n",
      "*       * \n",
      "  * * *   \n"
     ]
    }
   ],
   "source": [
    "for row in range(7):\n",
    "    for col in range(5):\n",
    "        if row in {0,6} and col in {1,2,3}:\n",
    "            print(\"*\" , end=\" \")\n",
    "        elif row not in {0,6} and col in {0,4}:\n",
    "            print(\"*\" , end=\" \")\n",
    "        else:\n",
    "            print(' ',end=' ')\n",
    "    print()"
   ]
  },
  {
   "cell_type": "markdown",
   "id": "904d9739",
   "metadata": {},
   "source": [
    "***"
   ]
  },
  {
   "cell_type": "markdown",
   "id": "ae4b1c99",
   "metadata": {},
   "source": [
    "## To print alphabet Symbol 'P'"
   ]
  },
  {
   "cell_type": "code",
   "execution_count": 69,
   "id": "7c5130d2",
   "metadata": {},
   "outputs": [
    {
     "name": "stdout",
     "output_type": "stream",
     "text": [
      "* * * *   \n",
      "*       * \n",
      "*       * \n",
      "* * * *   \n",
      "*         \n",
      "*         \n",
      "*         \n"
     ]
    }
   ],
   "source": [
    "for row in range(7):\n",
    "    for col in range(5):\n",
    "        if row in {0,3} and col != 4:\n",
    "            print(\"*\" , end=\" \")\n",
    "        elif row in {1,2} and col in {0,4}:\n",
    "            print(\"*\" , end=\" \")\n",
    "        elif row in {4,5,6} and col == 0:\n",
    "            print(\"*\" , end=\" \")\n",
    "        else:\n",
    "            print(' ',end=' ')\n",
    "    print()"
   ]
  },
  {
   "cell_type": "markdown",
   "id": "fedce344",
   "metadata": {},
   "source": [
    "***"
   ]
  },
  {
   "cell_type": "markdown",
   "id": "de1ba623",
   "metadata": {},
   "source": [
    "## To print alphabet Symbol 'Q'"
   ]
  },
  {
   "cell_type": "code",
   "execution_count": 73,
   "id": "b279aa53",
   "metadata": {},
   "outputs": [
    {
     "name": "stdout",
     "output_type": "stream",
     "text": [
      "  * * *   \n",
      "*       * \n",
      "*       * \n",
      "*       * \n",
      "*   *   * \n",
      "*     * * \n",
      "  * * * * \n"
     ]
    }
   ],
   "source": [
    "for row in range(7):\n",
    "    for col in range(5):\n",
    "        if row == 0 and col in {1,2,3}:\n",
    "            print(\"*\" , end=\" \")\n",
    "        elif row in {1,2,3} and col in {0,4}:\n",
    "            print(\"*\" , end=\" \")\n",
    "        elif row == 4 and col in {0,2,4}:\n",
    "            print(\"*\" , end=\" \")\n",
    "        elif row == 5 and col in {0,3,4}:\n",
    "            print(\"*\" , end=\" \")\n",
    "        elif row == 6 and col != 0:\n",
    "            print(\"*\" , end=\" \")\n",
    "        else:\n",
    "            print(' ',end=' ')\n",
    "    print()"
   ]
  },
  {
   "cell_type": "markdown",
   "id": "fd12510e",
   "metadata": {},
   "source": [
    "***"
   ]
  },
  {
   "cell_type": "markdown",
   "id": "0d71cfa5",
   "metadata": {},
   "source": [
    "## To print alphabet Symbol 'R'"
   ]
  },
  {
   "cell_type": "code",
   "execution_count": 79,
   "id": "0e9ce9d6",
   "metadata": {},
   "outputs": [
    {
     "name": "stdout",
     "output_type": "stream",
     "text": [
      "* * * *   \n",
      "*       * \n",
      "*       * \n",
      "* * * *   \n",
      "*   *     \n",
      "*     *   \n",
      "*       * \n"
     ]
    }
   ],
   "source": [
    "for row in range(7):\n",
    "    for col in range(5):\n",
    "        if row in {0,3} and col != 4:\n",
    "            print(\"*\" , end=\" \")\n",
    "        elif row in {1,2} and col in {0,4}:\n",
    "            print(\"*\" , end=\" \")\n",
    "        elif row == 4 and col in {0,2}:\n",
    "            print(\"*\" , end=\" \")\n",
    "        elif row == 5 and col in {0,3}:\n",
    "            print(\"*\" , end=\" \")\n",
    "        elif row == 6 and col in {0,4}:\n",
    "            print(\"*\" , end=\" \")\n",
    "        else:\n",
    "            print(' ',end=' ')\n",
    "    print()"
   ]
  },
  {
   "cell_type": "markdown",
   "id": "cb53ed81",
   "metadata": {},
   "source": [
    "***"
   ]
  },
  {
   "cell_type": "markdown",
   "id": "60f12a27",
   "metadata": {},
   "source": [
    "## To print alphabet Symbol 'S' "
   ]
  },
  {
   "cell_type": "code",
   "execution_count": 80,
   "id": "3cb69be7",
   "metadata": {},
   "outputs": [
    {
     "name": "stdout",
     "output_type": "stream",
     "text": [
      "  * * *   \n",
      "*       * \n",
      "*         \n",
      "  * * *   \n",
      "        * \n",
      "*       * \n",
      "  * * *   \n"
     ]
    }
   ],
   "source": [
    "for row in range(7):\n",
    "    for col in range(5):\n",
    "        if row in {0,3,6} and col in {1,2,3}:\n",
    "            print(\"*\" , end=\" \")\n",
    "        elif row in {1,5} and col in {0,4}:\n",
    "            print(\"*\" , end=\" \")\n",
    "        elif row == 2 and col == 0:\n",
    "            print(\"*\" , end=\" \")\n",
    "        elif row == 4 and col == 4:\n",
    "            print(\"*\" , end=\" \")\n",
    "        else:\n",
    "            print(' ',end=' ')\n",
    "    print()"
   ]
  },
  {
   "cell_type": "markdown",
   "id": "3216b420",
   "metadata": {},
   "source": [
    "***"
   ]
  },
  {
   "cell_type": "markdown",
   "id": "3c322618",
   "metadata": {},
   "source": [
    "## To print alphabet Symbol 'T'"
   ]
  },
  {
   "cell_type": "code",
   "execution_count": 81,
   "id": "c34c844e",
   "metadata": {},
   "outputs": [
    {
     "name": "stdout",
     "output_type": "stream",
     "text": [
      "* * * * * \n",
      "    *     \n",
      "    *     \n",
      "    *     \n",
      "    *     \n",
      "    *     \n",
      "    *     \n"
     ]
    }
   ],
   "source": [
    "for row in range(7):\n",
    "    for col in range(5):\n",
    "        if row == 0:\n",
    "            print(\"*\" , end=\" \")\n",
    "        elif row !=0 and col == 2:\n",
    "            print(\"*\" , end=\" \")\n",
    "        else:\n",
    "            print(' ',end=' ')\n",
    "    print()"
   ]
  },
  {
   "cell_type": "markdown",
   "id": "80d8a788",
   "metadata": {},
   "source": [
    "***"
   ]
  },
  {
   "cell_type": "markdown",
   "id": "26606b5e",
   "metadata": {},
   "source": [
    "## To print alphabet Symbol 'U'"
   ]
  },
  {
   "cell_type": "code",
   "execution_count": 85,
   "id": "9c321f9a",
   "metadata": {},
   "outputs": [
    {
     "name": "stdout",
     "output_type": "stream",
     "text": [
      "*       * \n",
      "*       * \n",
      "*       * \n",
      "*       * \n",
      "*       * \n",
      "*       * \n",
      "  * * *   \n"
     ]
    }
   ],
   "source": [
    "for row in range(7):\n",
    "    for col in range(5):\n",
    "        if row != 6 and col in {0,4}:\n",
    "            print(\"*\" , end=\" \")\n",
    "        elif row == 6 and col not in {0,4}:\n",
    "            print(\"*\" , end=\" \")\n",
    "        else:\n",
    "            print(' ',end=' ')\n",
    "    print()"
   ]
  },
  {
   "cell_type": "markdown",
   "id": "601c1d41",
   "metadata": {},
   "source": [
    "***"
   ]
  },
  {
   "cell_type": "markdown",
   "id": "1c7949e4",
   "metadata": {},
   "source": [
    "## To print alphabet Symbol 'V'"
   ]
  },
  {
   "cell_type": "code",
   "execution_count": 88,
   "id": "13db8b1f",
   "metadata": {},
   "outputs": [
    {
     "name": "stdout",
     "output_type": "stream",
     "text": [
      "*       * \n",
      "*       * \n",
      "*       * \n",
      "*       * \n",
      "*       * \n",
      "  *   *   \n",
      "    *     \n"
     ]
    }
   ],
   "source": [
    "for row in range(7):\n",
    "    for col in range(5):\n",
    "        if row in range(5) and col in {0,4}:\n",
    "            print(\"*\" , end=\" \")\n",
    "        elif row == 5 and col in {1,3}:\n",
    "            print(\"*\" , end=\" \")\n",
    "        elif row == 6 and col == 2:\n",
    "            print(\"*\" , end=\" \")\n",
    "        else:\n",
    "            print(' ',end=' ')\n",
    "    print()"
   ]
  },
  {
   "cell_type": "markdown",
   "id": "a3935946",
   "metadata": {},
   "source": [
    "***"
   ]
  },
  {
   "cell_type": "markdown",
   "id": "61078416",
   "metadata": {},
   "source": [
    "## To print alphabet Symbol 'W'"
   ]
  },
  {
   "cell_type": "code",
   "execution_count": 98,
   "id": "0db8517a",
   "metadata": {},
   "outputs": [
    {
     "name": "stdout",
     "output_type": "stream",
     "text": [
      "*       * \n",
      "*       * \n",
      "*       * \n",
      "*       * \n",
      "*   *   * \n",
      "* *   * * \n",
      "*       * \n"
     ]
    }
   ],
   "source": [
    "for row in range(7):\n",
    "    for col in range(5):\n",
    "        if row not in {4,5} and col in {0,4}:\n",
    "            print(\"*\" , end=\" \")\n",
    "        elif row == 4 and col in {0,2,4}:\n",
    "            print(\"*\" , end=\" \")\n",
    "        elif row == 5 and col != 2:\n",
    "            print(\"*\" , end=\" \")\n",
    "        else:\n",
    "            print(' ',end=' ')\n",
    "    print()"
   ]
  },
  {
   "cell_type": "markdown",
   "id": "5fe47fd2",
   "metadata": {},
   "source": [
    "***"
   ]
  },
  {
   "cell_type": "markdown",
   "id": "e048cab9",
   "metadata": {},
   "source": [
    "## To print alphabet Symbol 'X'"
   ]
  },
  {
   "cell_type": "code",
   "execution_count": 100,
   "id": "e9fa6f38",
   "metadata": {},
   "outputs": [
    {
     "name": "stdout",
     "output_type": "stream",
     "text": [
      "*       * \n",
      "*       * \n",
      "  *   *   \n",
      "    *     \n",
      "  *   *   \n",
      "*       * \n",
      "*       * \n"
     ]
    }
   ],
   "source": [
    "for row in range(7):\n",
    "    for col in range(5):\n",
    "        if row in {0,1,5,6} and col in {0,4}:\n",
    "            print(\"*\" , end=\" \")\n",
    "        elif row in {2,4} and col in {1,3}:\n",
    "            print(\"*\" , end=\" \")\n",
    "        elif row == 3 and col == 2:\n",
    "            print(\"*\" , end=\" \")\n",
    "        else:\n",
    "            print(' ',end=' ')\n",
    "    print()"
   ]
  },
  {
   "cell_type": "markdown",
   "id": "c5eac0cb",
   "metadata": {},
   "source": [
    "***"
   ]
  },
  {
   "cell_type": "markdown",
   "id": "9efdf41d",
   "metadata": {},
   "source": [
    "## To print alphabet Symbol 'Y'"
   ]
  },
  {
   "cell_type": "code",
   "execution_count": 103,
   "id": "3c0866f5",
   "metadata": {},
   "outputs": [
    {
     "name": "stdout",
     "output_type": "stream",
     "text": [
      "*       * \n",
      "*       * \n",
      "  * * *   \n",
      "    *     \n",
      "    *     \n",
      "    *     \n",
      "    *     \n"
     ]
    }
   ],
   "source": [
    "for row in range(7):\n",
    "    for col in range(5):\n",
    "        if row in {0,1} and col in {0,4}:\n",
    "            print(\"*\" , end=\" \")\n",
    "        elif row == 2 and col in {1,2,3}:\n",
    "            print(\"*\" , end=\" \")\n",
    "        elif row in range(3,7) and col == 2:\n",
    "            print(\"*\" , end=\" \")\n",
    "        else:\n",
    "            print(' ',end=' ')\n",
    "    print()"
   ]
  },
  {
   "cell_type": "markdown",
   "id": "c4c55100",
   "metadata": {},
   "source": [
    "***"
   ]
  },
  {
   "cell_type": "markdown",
   "id": "ab6ce5ff",
   "metadata": {},
   "source": [
    "## To print alphabet Symbol 'Z' "
   ]
  },
  {
   "cell_type": "code",
   "execution_count": 110,
   "id": "8a14bcce",
   "metadata": {},
   "outputs": [
    {
     "name": "stdout",
     "output_type": "stream",
     "text": [
      "* * * * * \n",
      "        * \n",
      "      *   \n",
      "    *     \n",
      "  *       \n",
      "*         \n",
      "* * * * * \n"
     ]
    }
   ],
   "source": [
    "for row in range(7):\n",
    "    for col in range(5):\n",
    "        if row in {0,6}:\n",
    "            print(\"*\" , end=\" \")\n",
    "        elif row == 1 and col == 4:\n",
    "            print(\"*\" , end=\" \")\n",
    "        elif row == 2 and col == 3:\n",
    "            print(\"*\" , end=\" \")\n",
    "        elif row == 3 and col == 2:\n",
    "            print(\"*\" , end=\" \")\n",
    "        elif row == 4 and col == 1:\n",
    "            print(\"*\" , end=\" \")\n",
    "        elif row == 5 and col == 0:\n",
    "            print(\"*\" , end=\" \")\n",
    "        else:\n",
    "            print(' ',end=' ')\n",
    "    print()"
   ]
  },
  {
   "cell_type": "markdown",
   "id": "148845b6",
   "metadata": {},
   "source": [
    "***"
   ]
  }
 ],
 "metadata": {
  "kernelspec": {
   "display_name": "Python 3 (ipykernel)",
   "language": "python",
   "name": "python3"
  },
  "language_info": {
   "codemirror_mode": {
    "name": "ipython",
    "version": 3
   },
   "file_extension": ".py",
   "mimetype": "text/x-python",
   "name": "python",
   "nbconvert_exporter": "python",
   "pygments_lexer": "ipython3",
   "version": "3.10.8"
  }
 },
 "nbformat": 4,
 "nbformat_minor": 5
}
