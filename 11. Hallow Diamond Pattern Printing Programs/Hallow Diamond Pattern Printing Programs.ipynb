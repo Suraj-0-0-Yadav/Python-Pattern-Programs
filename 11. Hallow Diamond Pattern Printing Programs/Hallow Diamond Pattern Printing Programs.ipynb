{
 "cells": [
  {
   "cell_type": "markdown",
   "id": "014ae228",
   "metadata": {},
   "source": [
    "## To print Hollw Diamond Pattern with * Symbols"
   ]
  },
  {
   "cell_type": "code",
   "execution_count": 13,
   "id": "9ff59ad3",
   "metadata": {},
   "outputs": [
    {
     "name": "stdout",
     "output_type": "stream",
     "text": [
      "Enter the number of rows : 6\n",
      "          * \n",
      "        *   *\n",
      "      *       *\n",
      "    *           *\n",
      "  *               *\n",
      "*                   *\n",
      "  *               *\n",
      "    *           *\n",
      "      *       *\n",
      "        *   *\n",
      "          * \n"
     ]
    }
   ],
   "source": [
    "n = int(input(\"Enter the number of rows : \"))\n",
    "\n",
    "for i in range(n):\n",
    "    print(\"  \"*(n-1-i) + '* ' , end='')\n",
    "    \n",
    "    if i>0:\n",
    "        print('  '*(2*i-1) + '*' , end='')\n",
    "    print()\n",
    "\n",
    "for i in range(n-1):\n",
    "    print('  '*(i+1) + '* ' , end='')\n",
    "    \n",
    "    if i !=n-2:\n",
    "        print('  '*(2*n-2*i-5) + '*',end='')\n",
    "    print()"
   ]
  },
  {
   "cell_type": "markdown",
   "id": "60704129",
   "metadata": {},
   "source": [
    "***"
   ]
  },
  {
   "cell_type": "markdown",
   "id": "afa0f83a",
   "metadata": {},
   "source": [
    "## To print Hollw Diamond Pattern with digits in Ascending Order\n"
   ]
  },
  {
   "cell_type": "code",
   "execution_count": 15,
   "id": "c918bab0",
   "metadata": {},
   "outputs": [
    {
     "name": "stdout",
     "output_type": "stream",
     "text": [
      "Enter the number of rows : 5\n",
      "        1\n",
      "      2  2\n",
      "    3      3\n",
      "  4          4\n",
      "5              5\n",
      "  4          4\n",
      "    3      3\n",
      "      2  2\n",
      "        1\n"
     ]
    }
   ],
   "source": [
    "n = int(input(\"Enter the number of rows : \"))\n",
    "\n",
    "for i in range(n):\n",
    "    print(\"  \"*(n-1-i) + str(i+1) , end='')\n",
    "    \n",
    "    if i>0:\n",
    "        print('  '*(2*i-1) + str(i+1) , end='')\n",
    "    print()\n",
    "\n",
    "for i in range(n-1):\n",
    "    print('  '*(i+1) + str(n-1-i) , end='')\n",
    "    \n",
    "    if i !=n-2:\n",
    "        print('  '*(2*n-2*i-5) + str(n-1-i),end='')\n",
    "    print()"
   ]
  },
  {
   "cell_type": "markdown",
   "id": "98cd1f98",
   "metadata": {},
   "source": [
    "## To print Hollw Diamond Pattern with digits in Descending Order"
   ]
  },
  {
   "cell_type": "code",
   "execution_count": 17,
   "id": "1641d526",
   "metadata": {},
   "outputs": [
    {
     "name": "stdout",
     "output_type": "stream",
     "text": [
      "Enter the number of rows : 5\n",
      "        5\n",
      "      4  4\n",
      "    3      4\n",
      "  2          4\n",
      "1              4\n",
      "  2          2\n",
      "    3      3\n",
      "      4  4\n",
      "        5\n"
     ]
    }
   ],
   "source": [
    "n = int(input(\"Enter the number of rows : \"))\n",
    "\n",
    "for i in range(n):\n",
    "    print(\"  \"*(n-1-i) + str(n-i) , end='')\n",
    "    \n",
    "    if i>0:\n",
    "        print('  '*(2*i-1) + str(n-1) , end='')\n",
    "    print()\n",
    "\n",
    "for i in range(n-1):\n",
    "    print('  '*(i+1) + str(i+2) , end='')\n",
    "    \n",
    "    if i !=n-2:\n",
    "        print('  '*(2*n-2*i-5) + str(i+2),end='')\n",
    "    print()"
   ]
  },
  {
   "cell_type": "markdown",
   "id": "e3e14717",
   "metadata": {},
   "source": [
    "***"
   ]
  },
  {
   "cell_type": "markdown",
   "id": "d230e58a",
   "metadata": {},
   "source": [
    "## To print Hollw Diamond Pattern with alphabet symbols in Dictionary Order\n"
   ]
  },
  {
   "cell_type": "code",
   "execution_count": 22,
   "id": "fe54856c",
   "metadata": {},
   "outputs": [
    {
     "name": "stdout",
     "output_type": "stream",
     "text": [
      "Enter the number of rows : 5\n",
      "        A\n",
      "      B  B\n",
      "    C      C\n",
      "  D          D\n",
      "E              E\n",
      "  D          D\n",
      "    C      C\n",
      "      B  B\n",
      "        A\n"
     ]
    }
   ],
   "source": [
    "n = int(input(\"Enter the number of rows : \"))\n",
    "\n",
    "for i in range(n):\n",
    "    print(\"  \"*(n-1-i) + chr(65+i) , end='')\n",
    "    \n",
    "    if i>0:\n",
    "        print('  '*(2*i-1) + chr(65+i) , end='')\n",
    "    print()\n",
    "\n",
    "for i in range(n-1):\n",
    "    print('  '*(i+1) + chr(64+n-(i+1)) , end='')\n",
    "    \n",
    "    if i !=n-2:\n",
    "        print('  '*(2*n-2*i-5) + chr(64+n-(i+1)),end='')\n",
    "    print()"
   ]
  },
  {
   "cell_type": "markdown",
   "id": "bd2c2442",
   "metadata": {},
   "source": [
    "***"
   ]
  },
  {
   "cell_type": "markdown",
   "id": "ac6ca2ec",
   "metadata": {},
   "source": [
    "## To print Hollw Diamond Pattern with alphabet symbols in Reverse of Dictionary Order"
   ]
  },
  {
   "cell_type": "code",
   "execution_count": 26,
   "id": "4ecdf596",
   "metadata": {},
   "outputs": [
    {
     "name": "stdout",
     "output_type": "stream",
     "text": [
      "Enter the number of rows : 5\n",
      "        E\n",
      "      D  D\n",
      "    C      C\n",
      "  B          B\n",
      "A              A\n",
      "  B          B\n",
      "    C      C\n",
      "      D  D\n",
      "        E\n"
     ]
    }
   ],
   "source": [
    "n = int(input(\"Enter the number of rows : \"))\n",
    "\n",
    "for i in range(n):\n",
    "    print(\"  \"*(n-1-i) + chr(64+n-i) , end='')\n",
    "    \n",
    "    if i>0:\n",
    "        print('  '*(2*i-1) + chr(64+n-i) , end='')\n",
    "    print()\n",
    "\n",
    "for i in range(n-1):\n",
    "    print('  '*(i+1) + chr(66+i) , end='')\n",
    "    \n",
    "    if i !=n-2:\n",
    "        print('  '*(2*n-2*i-5) + chr(66+i),end='')\n",
    "    print()"
   ]
  },
  {
   "cell_type": "markdown",
   "id": "8a25a2e9",
   "metadata": {},
   "source": [
    "***"
   ]
  },
  {
   "cell_type": "code",
   "execution_count": null,
   "id": "e3fec08d",
   "metadata": {},
   "outputs": [],
   "source": []
  }
 ],
 "metadata": {
  "kernelspec": {
   "display_name": "Python 3 (ipykernel)",
   "language": "python",
   "name": "python3"
  },
  "language_info": {
   "codemirror_mode": {
    "name": "ipython",
    "version": 3
   },
   "file_extension": ".py",
   "mimetype": "text/x-python",
   "name": "python",
   "nbconvert_exporter": "python",
   "pygments_lexer": "ipython3",
   "version": "3.9.12"
  }
 },
 "nbformat": 4,
 "nbformat_minor": 5
}
