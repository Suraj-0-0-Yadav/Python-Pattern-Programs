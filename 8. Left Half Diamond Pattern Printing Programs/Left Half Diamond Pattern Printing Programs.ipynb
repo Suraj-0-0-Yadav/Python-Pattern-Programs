{
 "cells": [
  {
   "cell_type": "markdown",
   "id": "56b4b6bd",
   "metadata": {},
   "source": [
    "## To print Left Half Diamond Pattern with * symbols\n"
   ]
  },
  {
   "cell_type": "code",
   "execution_count": 5,
   "id": "e5b24c29",
   "metadata": {},
   "outputs": [
    {
     "name": "stdout",
     "output_type": "stream",
     "text": [
      "Enter the numbe rof rows : 5\n",
      "        * \n",
      "      * * \n",
      "    * * * \n",
      "  * * * * \n",
      "* * * * * \n",
      "  * * * * \n",
      "    * * * \n",
      "      * * \n",
      "        * \n"
     ]
    }
   ],
   "source": [
    "n = int(input(\"Enter the numbe rof rows : \"))\n",
    "\n",
    "for i in range(n):\n",
    "    print('  '*(n-1-i) + \"* \"*(i+1))\n",
    "for i in range(n-1):\n",
    "    print('  '*(i+1) + \"* \"*(n-1-i))"
   ]
  },
  {
   "cell_type": "markdown",
   "id": "e65d939b",
   "metadata": {},
   "source": [
    "***"
   ]
  },
  {
   "cell_type": "markdown",
   "id": "c23830d1",
   "metadata": {},
   "source": [
    "## To print Left Half Diamond Pattern with fixed digit in every row"
   ]
  },
  {
   "cell_type": "code",
   "execution_count": 9,
   "id": "88b1cab5",
   "metadata": {},
   "outputs": [
    {
     "name": "stdout",
     "output_type": "stream",
     "text": [
      "Enter the number of rows : 5\n",
      "        1 \n",
      "      2 2 \n",
      "    3 3 3 \n",
      "  4 4 4 4 \n",
      "5 5 5 5 5 \n",
      "  4 4 4 4 \n",
      "    3 3 3 \n",
      "      2 2 \n",
      "        1 \n"
     ]
    }
   ],
   "source": [
    "n = int(input(\"Enter the number of rows : \"))\n",
    "\n",
    "for i in range(n):\n",
    "    print('  '*(n-1-i) + (str(i+1)+' ')*(i+1))\n",
    "\n",
    "for i in range(n-1):\n",
    "    print('  '*(i+1) + (str(n-1-i)+' ')*(n-1-i))"
   ]
  },
  {
   "cell_type": "markdown",
   "id": "17f4e170",
   "metadata": {},
   "source": [
    "***"
   ]
  },
  {
   "cell_type": "markdown",
   "id": "df2cfc24",
   "metadata": {},
   "source": [
    "## To print Left Half Diamond Pattern with fixed alphabet symbol in every row"
   ]
  },
  {
   "cell_type": "code",
   "execution_count": 11,
   "id": "143bc515",
   "metadata": {},
   "outputs": [
    {
     "name": "stdout",
     "output_type": "stream",
     "text": [
      "Enter the number of rows : 5\n",
      "        A \n",
      "      B B \n",
      "    C C C \n",
      "  D D D D \n",
      "E E E E E \n",
      "  D D D D \n",
      "    C C C \n",
      "      B B \n",
      "        A \n"
     ]
    }
   ],
   "source": [
    "n = int(input(\"Enter the number of rows : \"))\n",
    "\n",
    "for i in range(n):\n",
    "    print('  '*(n-1-i) + (chr(65+i)+' ')*(i+1))\n",
    "\n",
    "for i in range(n-1):\n",
    "    print('  '*(i+1) + (chr(64+n-(i+1))+' ')*(n-1-i))"
   ]
  },
  {
   "cell_type": "markdown",
   "id": "e27b1505",
   "metadata": {},
   "source": [
    "***"
   ]
  },
  {
   "cell_type": "markdown",
   "id": "4c4cfa98",
   "metadata": {},
   "source": [
    "## To print Left Half Diamond Pattern with digits in ascending order in every row\n"
   ]
  },
  {
   "cell_type": "code",
   "execution_count": 15,
   "id": "0eaacdcc",
   "metadata": {},
   "outputs": [
    {
     "name": "stdout",
     "output_type": "stream",
     "text": [
      "Enter the number of rows : 5\n",
      "        1 \n",
      "      1 2 \n",
      "    1 2 3 \n",
      "  1 2 3 4 \n",
      "1 2 3 4 5 \n",
      "  1 2 3 4 \n",
      "    1 2 3 \n",
      "      1 2 \n",
      "        1 \n",
      "          \n"
     ]
    }
   ],
   "source": [
    "n = int(input(\"Enter the number of rows : \"))\n",
    "\n",
    "for i in range(n):\n",
    "    print('  '*(n-1-i),end=\"\")\n",
    "    for j in range(i+1):\n",
    "        print(j+1,end=' ')\n",
    "    print()\n",
    "    \n",
    "for i in range(n):\n",
    "    print('  '*(i+1),end=\"\")\n",
    "    for j in range(n-1-i):\n",
    "        print(j+1,end=' ')\n",
    "    print()"
   ]
  },
  {
   "cell_type": "markdown",
   "id": "28d7a6d0",
   "metadata": {},
   "source": [
    "***"
   ]
  },
  {
   "cell_type": "markdown",
   "id": "1f7e9335",
   "metadata": {},
   "source": [
    "## To print Left Half Diamond Pattern with alphabet symbols in dictionary order in every row\n"
   ]
  },
  {
   "cell_type": "code",
   "execution_count": 18,
   "id": "50cd00dd",
   "metadata": {},
   "outputs": [
    {
     "name": "stdout",
     "output_type": "stream",
     "text": [
      "Enter the number of rows : 5\n",
      "        A \n",
      "      A B \n",
      "    A B C \n",
      "  A B C D \n",
      "A B C D E \n",
      "  A B C D \n",
      "    A B C \n",
      "      A B \n",
      "        A \n",
      "          \n"
     ]
    }
   ],
   "source": [
    "n = int(input(\"Enter the number of rows : \"))\n",
    "\n",
    "for i in range(n):\n",
    "    print('  '*(n-1-i),end=\"\")\n",
    "    for j in range(i+1):\n",
    "        print(chr(65+j),end=' ')\n",
    "    print()\n",
    "    \n",
    "for i in range(n):\n",
    "    print('  '*(i+1),end=\"\")\n",
    "    for j in range(n-1-i):\n",
    "        print(chr(65+j),end=' ')\n",
    "    print()"
   ]
  },
  {
   "cell_type": "markdown",
   "id": "2c0d968a",
   "metadata": {},
   "source": [
    "***"
   ]
  },
  {
   "cell_type": "markdown",
   "id": "94513376",
   "metadata": {},
   "source": [
    "## To print Left Half Diamond Pattern with digits in descending order in every row"
   ]
  },
  {
   "cell_type": "code",
   "execution_count": 20,
   "id": "e65d7d10",
   "metadata": {},
   "outputs": [
    {
     "name": "stdout",
     "output_type": "stream",
     "text": [
      "Enter the number of rows : 5\n",
      "        5 \n",
      "      5 4 \n",
      "    5 4 3 \n",
      "  5 4 3 2 \n",
      "5 4 3 2 1 \n",
      "  5 4 3 2 \n",
      "    5 4 3 \n",
      "      5 4 \n",
      "        5 \n",
      "          \n"
     ]
    }
   ],
   "source": [
    "n = int(input(\"Enter the number of rows : \"))\n",
    "\n",
    "for i in range(n):\n",
    "    print('  '*(n-1-i),end=\"\")\n",
    "    for j in range(i+1):\n",
    "        print(n-j,end=' ')\n",
    "    print()\n",
    "    \n",
    "for i in range(n):\n",
    "    print('  '*(i+1),end=\"\")\n",
    "    for j in range(n-1-i):\n",
    "        print(n-j,end=' ')\n",
    "    print()"
   ]
  },
  {
   "cell_type": "markdown",
   "id": "eab9f2f7",
   "metadata": {},
   "source": [
    "***"
   ]
  },
  {
   "cell_type": "markdown",
   "id": "1c3be594",
   "metadata": {},
   "source": [
    "## To print Left Half Diamond Pattern with alphabet symbols in reverse of dictionaryorder in every row"
   ]
  },
  {
   "cell_type": "code",
   "execution_count": 22,
   "id": "2a83be7e",
   "metadata": {},
   "outputs": [
    {
     "name": "stdout",
     "output_type": "stream",
     "text": [
      "Enter the number of rows : 5\n",
      "        E \n",
      "      E D \n",
      "    E D C \n",
      "  E D C B \n",
      "E D C B A \n",
      "  E D C B \n",
      "    E D C \n",
      "      E D \n",
      "        E \n",
      "          \n"
     ]
    }
   ],
   "source": [
    "n = int(input(\"Enter the number of rows : \"))\n",
    "\n",
    "for i in range(n):\n",
    "    print('  '*(n-1-i),end=\"\")\n",
    "    for j in range(i+1):\n",
    "        print(chr(64+n-j),end=' ')\n",
    "    print()\n",
    "    \n",
    "for i in range(n):\n",
    "    print('  '*(i+1),end=\"\")\n",
    "    for j in range(n-1-i):\n",
    "        print(chr(64+n-j),end=' ')\n",
    "    print()"
   ]
  },
  {
   "cell_type": "markdown",
   "id": "10185bca",
   "metadata": {},
   "source": [
    "***"
   ]
  },
  {
   "cell_type": "code",
   "execution_count": null,
   "id": "9b356b21",
   "metadata": {},
   "outputs": [],
   "source": []
  }
 ],
 "metadata": {
  "kernelspec": {
   "display_name": "Python 3 (ipykernel)",
   "language": "python",
   "name": "python3"
  },
  "language_info": {
   "codemirror_mode": {
    "name": "ipython",
    "version": 3
   },
   "file_extension": ".py",
   "mimetype": "text/x-python",
   "name": "python",
   "nbconvert_exporter": "python",
   "pygments_lexer": "ipython3",
   "version": "3.9.12"
  }
 },
 "nbformat": 4,
 "nbformat_minor": 5
}
