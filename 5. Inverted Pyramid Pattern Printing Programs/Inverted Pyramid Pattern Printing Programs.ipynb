{
 "cells": [
  {
   "cell_type": "markdown",
   "id": "4f22e87b",
   "metadata": {},
   "source": [
    "## To print Inverted Pyramid Pattern with * symbols"
   ]
  },
  {
   "cell_type": "code",
   "execution_count": 3,
   "id": "8aa127cc",
   "metadata": {},
   "outputs": [
    {
     "name": "stdout",
     "output_type": "stream",
     "text": [
      "Enter the number of rows : 7\n",
      "* * * * * * * \n",
      " * * * * * * \n",
      "  * * * * * \n",
      "   * * * * \n",
      "    * * * \n",
      "     * * \n",
      "      * \n"
     ]
    }
   ],
   "source": [
    "n = int(input(\"Enter the number of rows : \"))\n",
    "\n",
    "for i in range(n):\n",
    "    print(' '*i + '* '*(n-i))"
   ]
  },
  {
   "cell_type": "markdown",
   "id": "1fe26045",
   "metadata": {},
   "source": [
    "***"
   ]
  },
  {
   "cell_type": "markdown",
   "id": "bc34fc13",
   "metadata": {},
   "source": [
    "## To print Inverted Pyramid Pattern with fixed digit in every row"
   ]
  },
  {
   "cell_type": "code",
   "execution_count": 4,
   "id": "bc569aad",
   "metadata": {},
   "outputs": [
    {
     "name": "stdout",
     "output_type": "stream",
     "text": [
      "Entr the nummber of rows : 5\n",
      "1 1 1 1 1 \n",
      " 2 2 2 2 \n",
      "  3 3 3 \n",
      "   4 4 \n",
      "    5 \n"
     ]
    }
   ],
   "source": [
    "n = int(input(\"Entr the nummber of rows : \"))\n",
    "\n",
    "for i in range(n):\n",
    "    print(' '*i + (str(i+1)+\" \")*(n-i)) "
   ]
  },
  {
   "cell_type": "markdown",
   "id": "7f2b16c0",
   "metadata": {},
   "source": [
    "***"
   ]
  },
  {
   "cell_type": "markdown",
   "id": "8e2b740e",
   "metadata": {},
   "source": [
    "## To print Inverted Pyramid Pattern with fixed alphabet symbol in every row\n"
   ]
  },
  {
   "cell_type": "code",
   "execution_count": 5,
   "id": "02ad2be3",
   "metadata": {},
   "outputs": [
    {
     "name": "stdout",
     "output_type": "stream",
     "text": [
      "Entr the nummber of rows : 5\n",
      "A A A A A \n",
      " B B B B \n",
      "  C C C \n",
      "   D D \n",
      "    E \n"
     ]
    }
   ],
   "source": [
    "n = int(input(\"Entr the nummber of rows : \"))\n",
    "\n",
    "for i in range(n):\n",
    "    print(' '*i + (chr(65+i)+\" \")*(n-i)) "
   ]
  },
  {
   "cell_type": "markdown",
   "id": "afd822c3",
   "metadata": {},
   "source": [
    "***"
   ]
  },
  {
   "cell_type": "markdown",
   "id": "d494bc8e",
   "metadata": {},
   "source": [
    "## To print Inverted Pyramid Pattern with digits in ascending order in every row"
   ]
  },
  {
   "cell_type": "code",
   "execution_count": 6,
   "id": "4ca11279",
   "metadata": {},
   "outputs": [
    {
     "name": "stdout",
     "output_type": "stream",
     "text": [
      "Entr the nummber of rows : 5\n",
      "1 2 3 4 5 \n",
      " 1 2 3 4 \n",
      "  1 2 3 \n",
      "   1 2 \n",
      "    1 \n"
     ]
    }
   ],
   "source": [
    "n = int(input(\"Entr the nummber of rows : \"))\n",
    "\n",
    "for i in range(n):\n",
    "    print(' '*i,end=\"\")\n",
    "    for j in range(n-i):\n",
    "        print(j+1,end=\" \")\n",
    "    print()"
   ]
  },
  {
   "cell_type": "markdown",
   "id": "d94cff2c",
   "metadata": {},
   "source": [
    "***"
   ]
  },
  {
   "cell_type": "markdown",
   "id": "fc7e9095",
   "metadata": {},
   "source": [
    "## To print Inverted Pyramid Pattern with alphabet symbols in dictionary order in every row"
   ]
  },
  {
   "cell_type": "code",
   "execution_count": 7,
   "id": "e7e51424",
   "metadata": {},
   "outputs": [
    {
     "name": "stdout",
     "output_type": "stream",
     "text": [
      "Entr the nummber of rows : 5\n",
      "A B C D E \n",
      " A B C D \n",
      "  A B C \n",
      "   A B \n",
      "    A \n"
     ]
    }
   ],
   "source": [
    "n = int(input(\"Entr the nummber of rows : \"))\n",
    "\n",
    "for i in range(n):\n",
    "    print(' '*i,end=\"\")\n",
    "    for j in range(n-i):\n",
    "        print(chr(65+j),end=\" \")\n",
    "    print()"
   ]
  },
  {
   "cell_type": "markdown",
   "id": "c7364820",
   "metadata": {},
   "source": [
    "***"
   ]
  },
  {
   "cell_type": "markdown",
   "id": "9a852ccb",
   "metadata": {},
   "source": [
    "## To print Inverted Pyramid Pattern with digits in descending order in every row"
   ]
  },
  {
   "cell_type": "code",
   "execution_count": 8,
   "id": "42a16476",
   "metadata": {},
   "outputs": [
    {
     "name": "stdout",
     "output_type": "stream",
     "text": [
      "Entr the nummber of rows : 5\n",
      "5 5 5 5 5 \n",
      " 4 4 4 4 \n",
      "  3 3 3 \n",
      "   2 2 \n",
      "    1 \n"
     ]
    }
   ],
   "source": [
    "n = int(input(\"Entr the nummber of rows : \"))\n",
    "\n",
    "for i in range(n):\n",
    "    print(' '*i,end=\"\")\n",
    "    for j in range(n-i):\n",
    "        print(n-i,end=\" \")\n",
    "    print()"
   ]
  },
  {
   "cell_type": "markdown",
   "id": "6b4e439a",
   "metadata": {},
   "source": [
    "## To print Inverted Pyramid Pattern with alphabet symbols in reverse of dictionary order in every row"
   ]
  },
  {
   "cell_type": "code",
   "execution_count": 9,
   "id": "1e109908",
   "metadata": {},
   "outputs": [
    {
     "name": "stdout",
     "output_type": "stream",
     "text": [
      "Entr the nummber of rows : 5\n",
      "E D C B A \n",
      " E D C B \n",
      "  E D C \n",
      "   E D \n",
      "    E \n"
     ]
    }
   ],
   "source": [
    "n = int(input(\"Entr the nummber of rows : \"))\n",
    "\n",
    "for i in range(n):\n",
    "    print(' '*i,end=\"\")\n",
    "    for j in range(n-i):\n",
    "        print(chr(64+n-j),end=\" \")\n",
    "    print()"
   ]
  },
  {
   "cell_type": "markdown",
   "id": "e07b1233",
   "metadata": {},
   "source": [
    "***"
   ]
  },
  {
   "cell_type": "code",
   "execution_count": null,
   "id": "471a7611",
   "metadata": {},
   "outputs": [],
   "source": []
  }
 ],
 "metadata": {
  "kernelspec": {
   "display_name": "Python 3 (ipykernel)",
   "language": "python",
   "name": "python3"
  },
  "language_info": {
   "codemirror_mode": {
    "name": "ipython",
    "version": 3
   },
   "file_extension": ".py",
   "mimetype": "text/x-python",
   "name": "python",
   "nbconvert_exporter": "python",
   "pygments_lexer": "ipython3",
   "version": "3.9.12"
  }
 },
 "nbformat": 4,
 "nbformat_minor": 5
}
